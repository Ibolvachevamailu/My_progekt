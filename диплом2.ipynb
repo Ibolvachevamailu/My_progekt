{
 "cells": [
  {
   "cell_type": "code",
   "execution_count": 20,
   "id": "5742f802-49c0-45e4-b361-b0b126f514a6",
   "metadata": {},
   "outputs": [],
   "source": [
    "import os\n",
    "import pandas as pd\n",
    "import numpy as np\n",
    "import seaborn as sns\n",
    "import matplotlib.pyplot as plt\n",
    "from sklearn.ensemble import RandomForestClassifier\n",
    "\n",
    "\n",
    "\n",
    "import warnings\n",
    "warnings.filterwarnings(\"ignore\")\n",
    "\n",
    "np.random.seed(10)\n",
    "pd.set_option('display.precision', 2)"
   ]
  },
  {
   "cell_type": "code",
   "execution_count": 21,
   "id": "3e35b37c-48e1-4995-8846-9f06a5c5e2ed",
   "metadata": {},
   "outputs": [],
   "source": [
    "df = pd.read_csv('C:/Users/Инна/Desktop/otus/Sample - Superstore.csv', encoding='Windows-1252')"
   ]
  },
  {
   "cell_type": "markdown",
   "id": "4941bbb0-f082-481e-8018-9ff2201b2ae5",
   "metadata": {},
   "source": [
    "Таргет: Столбец Profit.\n",
    "Признаки: \n",
    "Тип задачи: Регрессия."
   ]
  },
  {
   "cell_type": "code",
   "execution_count": 22,
   "id": "a81f40c4-07cf-4f4b-a997-7dfea9dd90ea",
   "metadata": {},
   "outputs": [
    {
     "data": {
      "text/html": [
       "<div>\n",
       "<style scoped>\n",
       "    .dataframe tbody tr th:only-of-type {\n",
       "        vertical-align: middle;\n",
       "    }\n",
       "\n",
       "    .dataframe tbody tr th {\n",
       "        vertical-align: top;\n",
       "    }\n",
       "\n",
       "    .dataframe thead th {\n",
       "        text-align: right;\n",
       "    }\n",
       "</style>\n",
       "<table border=\"1\" class=\"dataframe\">\n",
       "  <thead>\n",
       "    <tr style=\"text-align: right;\">\n",
       "      <th></th>\n",
       "      <th>Row ID</th>\n",
       "      <th>Order ID</th>\n",
       "      <th>Order Date</th>\n",
       "      <th>Ship Date</th>\n",
       "      <th>Ship Mode</th>\n",
       "      <th>Customer ID</th>\n",
       "      <th>Customer Name</th>\n",
       "      <th>Segment</th>\n",
       "      <th>Country</th>\n",
       "      <th>City</th>\n",
       "      <th>...</th>\n",
       "      <th>Postal Code</th>\n",
       "      <th>Region</th>\n",
       "      <th>Product ID</th>\n",
       "      <th>Category</th>\n",
       "      <th>Sub-Category</th>\n",
       "      <th>Product Name</th>\n",
       "      <th>Sales</th>\n",
       "      <th>Quantity</th>\n",
       "      <th>Discount</th>\n",
       "      <th>Profit</th>\n",
       "    </tr>\n",
       "  </thead>\n",
       "  <tbody>\n",
       "    <tr>\n",
       "      <th>509</th>\n",
       "      <td>510</td>\n",
       "      <td>CA-2015-145352</td>\n",
       "      <td>3/16/2015</td>\n",
       "      <td>3/22/2015</td>\n",
       "      <td>Standard Class</td>\n",
       "      <td>CM-12385</td>\n",
       "      <td>Christopher Martinez</td>\n",
       "      <td>Consumer</td>\n",
       "      <td>United States</td>\n",
       "      <td>Atlanta</td>\n",
       "      <td>...</td>\n",
       "      <td>30318</td>\n",
       "      <td>South</td>\n",
       "      <td>OFF-BI-10003527</td>\n",
       "      <td>Office Supplies</td>\n",
       "      <td>Binders</td>\n",
       "      <td>Fellowes PB500 Electric Punch Plastic Comb Bin...</td>\n",
       "      <td>6354.95</td>\n",
       "      <td>5</td>\n",
       "      <td>0.0</td>\n",
       "      <td>3177.47</td>\n",
       "    </tr>\n",
       "    <tr>\n",
       "      <th>2623</th>\n",
       "      <td>2624</td>\n",
       "      <td>CA-2017-127180</td>\n",
       "      <td>10/22/2017</td>\n",
       "      <td>10/24/2017</td>\n",
       "      <td>First Class</td>\n",
       "      <td>TA-21385</td>\n",
       "      <td>Tom Ashbrook</td>\n",
       "      <td>Home Office</td>\n",
       "      <td>United States</td>\n",
       "      <td>New York City</td>\n",
       "      <td>...</td>\n",
       "      <td>10024</td>\n",
       "      <td>East</td>\n",
       "      <td>TEC-CO-10004722</td>\n",
       "      <td>Technology</td>\n",
       "      <td>Copiers</td>\n",
       "      <td>Canon imageCLASS 2200 Advanced Copier</td>\n",
       "      <td>11199.97</td>\n",
       "      <td>4</td>\n",
       "      <td>0.2</td>\n",
       "      <td>3919.99</td>\n",
       "    </tr>\n",
       "    <tr>\n",
       "      <th>4098</th>\n",
       "      <td>4099</td>\n",
       "      <td>CA-2014-116904</td>\n",
       "      <td>9/23/2014</td>\n",
       "      <td>9/28/2014</td>\n",
       "      <td>Standard Class</td>\n",
       "      <td>SC-20095</td>\n",
       "      <td>Sanjit Chand</td>\n",
       "      <td>Consumer</td>\n",
       "      <td>United States</td>\n",
       "      <td>Minneapolis</td>\n",
       "      <td>...</td>\n",
       "      <td>55407</td>\n",
       "      <td>Central</td>\n",
       "      <td>OFF-BI-10001120</td>\n",
       "      <td>Office Supplies</td>\n",
       "      <td>Binders</td>\n",
       "      <td>Ibico EPK-21 Electric Binding System</td>\n",
       "      <td>9449.95</td>\n",
       "      <td>5</td>\n",
       "      <td>0.0</td>\n",
       "      <td>4630.48</td>\n",
       "    </tr>\n",
       "    <tr>\n",
       "      <th>4190</th>\n",
       "      <td>4191</td>\n",
       "      <td>CA-2017-166709</td>\n",
       "      <td>11/17/2017</td>\n",
       "      <td>11/22/2017</td>\n",
       "      <td>Standard Class</td>\n",
       "      <td>HL-15040</td>\n",
       "      <td>Hunter Lopez</td>\n",
       "      <td>Consumer</td>\n",
       "      <td>United States</td>\n",
       "      <td>Newark</td>\n",
       "      <td>...</td>\n",
       "      <td>19711</td>\n",
       "      <td>East</td>\n",
       "      <td>TEC-CO-10004722</td>\n",
       "      <td>Technology</td>\n",
       "      <td>Copiers</td>\n",
       "      <td>Canon imageCLASS 2200 Advanced Copier</td>\n",
       "      <td>10499.97</td>\n",
       "      <td>3</td>\n",
       "      <td>0.0</td>\n",
       "      <td>5039.99</td>\n",
       "    </tr>\n",
       "    <tr>\n",
       "      <th>6826</th>\n",
       "      <td>6827</td>\n",
       "      <td>CA-2016-118689</td>\n",
       "      <td>10/2/2016</td>\n",
       "      <td>10/9/2016</td>\n",
       "      <td>Standard Class</td>\n",
       "      <td>TC-20980</td>\n",
       "      <td>Tamara Chand</td>\n",
       "      <td>Corporate</td>\n",
       "      <td>United States</td>\n",
       "      <td>Lafayette</td>\n",
       "      <td>...</td>\n",
       "      <td>47905</td>\n",
       "      <td>Central</td>\n",
       "      <td>TEC-CO-10004722</td>\n",
       "      <td>Technology</td>\n",
       "      <td>Copiers</td>\n",
       "      <td>Canon imageCLASS 2200 Advanced Copier</td>\n",
       "      <td>17499.95</td>\n",
       "      <td>5</td>\n",
       "      <td>0.0</td>\n",
       "      <td>8399.98</td>\n",
       "    </tr>\n",
       "    <tr>\n",
       "      <th>8153</th>\n",
       "      <td>8154</td>\n",
       "      <td>CA-2017-140151</td>\n",
       "      <td>3/23/2017</td>\n",
       "      <td>3/25/2017</td>\n",
       "      <td>First Class</td>\n",
       "      <td>RB-19360</td>\n",
       "      <td>Raymond Buch</td>\n",
       "      <td>Consumer</td>\n",
       "      <td>United States</td>\n",
       "      <td>Seattle</td>\n",
       "      <td>...</td>\n",
       "      <td>98115</td>\n",
       "      <td>West</td>\n",
       "      <td>TEC-CO-10004722</td>\n",
       "      <td>Technology</td>\n",
       "      <td>Copiers</td>\n",
       "      <td>Canon imageCLASS 2200 Advanced Copier</td>\n",
       "      <td>13999.96</td>\n",
       "      <td>4</td>\n",
       "      <td>0.0</td>\n",
       "      <td>6719.98</td>\n",
       "    </tr>\n",
       "    <tr>\n",
       "      <th>9039</th>\n",
       "      <td>9040</td>\n",
       "      <td>CA-2016-117121</td>\n",
       "      <td>12/17/2016</td>\n",
       "      <td>12/21/2016</td>\n",
       "      <td>Standard Class</td>\n",
       "      <td>AB-10105</td>\n",
       "      <td>Adrian Barton</td>\n",
       "      <td>Consumer</td>\n",
       "      <td>United States</td>\n",
       "      <td>Detroit</td>\n",
       "      <td>...</td>\n",
       "      <td>48205</td>\n",
       "      <td>Central</td>\n",
       "      <td>OFF-BI-10000545</td>\n",
       "      <td>Office Supplies</td>\n",
       "      <td>Binders</td>\n",
       "      <td>GBC Ibimaster 500 Manual ProClick Binding System</td>\n",
       "      <td>9892.74</td>\n",
       "      <td>13</td>\n",
       "      <td>0.0</td>\n",
       "      <td>4946.37</td>\n",
       "    </tr>\n",
       "  </tbody>\n",
       "</table>\n",
       "<p>7 rows × 21 columns</p>\n",
       "</div>"
      ],
      "text/plain": [
       "      Row ID        Order ID  Order Date   Ship Date       Ship Mode  \\\n",
       "509      510  CA-2015-145352   3/16/2015   3/22/2015  Standard Class   \n",
       "2623    2624  CA-2017-127180  10/22/2017  10/24/2017     First Class   \n",
       "4098    4099  CA-2014-116904   9/23/2014   9/28/2014  Standard Class   \n",
       "4190    4191  CA-2017-166709  11/17/2017  11/22/2017  Standard Class   \n",
       "6826    6827  CA-2016-118689   10/2/2016   10/9/2016  Standard Class   \n",
       "8153    8154  CA-2017-140151   3/23/2017   3/25/2017     First Class   \n",
       "9039    9040  CA-2016-117121  12/17/2016  12/21/2016  Standard Class   \n",
       "\n",
       "     Customer ID         Customer Name      Segment        Country  \\\n",
       "509     CM-12385  Christopher Martinez     Consumer  United States   \n",
       "2623    TA-21385          Tom Ashbrook  Home Office  United States   \n",
       "4098    SC-20095          Sanjit Chand     Consumer  United States   \n",
       "4190    HL-15040          Hunter Lopez     Consumer  United States   \n",
       "6826    TC-20980          Tamara Chand    Corporate  United States   \n",
       "8153    RB-19360          Raymond Buch     Consumer  United States   \n",
       "9039    AB-10105         Adrian Barton     Consumer  United States   \n",
       "\n",
       "               City  ... Postal Code   Region       Product ID  \\\n",
       "509         Atlanta  ...       30318    South  OFF-BI-10003527   \n",
       "2623  New York City  ...       10024     East  TEC-CO-10004722   \n",
       "4098    Minneapolis  ...       55407  Central  OFF-BI-10001120   \n",
       "4190         Newark  ...       19711     East  TEC-CO-10004722   \n",
       "6826      Lafayette  ...       47905  Central  TEC-CO-10004722   \n",
       "8153        Seattle  ...       98115     West  TEC-CO-10004722   \n",
       "9039        Detroit  ...       48205  Central  OFF-BI-10000545   \n",
       "\n",
       "             Category Sub-Category  \\\n",
       "509   Office Supplies      Binders   \n",
       "2623       Technology      Copiers   \n",
       "4098  Office Supplies      Binders   \n",
       "4190       Technology      Copiers   \n",
       "6826       Technology      Copiers   \n",
       "8153       Technology      Copiers   \n",
       "9039  Office Supplies      Binders   \n",
       "\n",
       "                                           Product Name     Sales  Quantity  \\\n",
       "509   Fellowes PB500 Electric Punch Plastic Comb Bin...   6354.95         5   \n",
       "2623              Canon imageCLASS 2200 Advanced Copier  11199.97         4   \n",
       "4098               Ibico EPK-21 Electric Binding System   9449.95         5   \n",
       "4190              Canon imageCLASS 2200 Advanced Copier  10499.97         3   \n",
       "6826              Canon imageCLASS 2200 Advanced Copier  17499.95         5   \n",
       "8153              Canon imageCLASS 2200 Advanced Copier  13999.96         4   \n",
       "9039   GBC Ibimaster 500 Manual ProClick Binding System   9892.74        13   \n",
       "\n",
       "      Discount   Profit  \n",
       "509        0.0  3177.47  \n",
       "2623       0.2  3919.99  \n",
       "4098       0.0  4630.48  \n",
       "4190       0.0  5039.99  \n",
       "6826       0.0  8399.98  \n",
       "8153       0.0  6719.98  \n",
       "9039       0.0  4946.37  \n",
       "\n",
       "[7 rows x 21 columns]"
      ]
     },
     "execution_count": 22,
     "metadata": {},
     "output_type": "execute_result"
    }
   ],
   "source": [
    "df[df['Profit']>=3000] #уберем из датасета строки с выбросами по признаку Profit"
   ]
  },
  {
   "cell_type": "code",
   "execution_count": 23,
   "id": "aa5b0d96-c7d5-4b66-b755-2039bf3a0430",
   "metadata": {},
   "outputs": [],
   "source": [
    "#уберем из датасета строки где аномальная продажи (если они остались)\n",
    "rows_to_drop2 = df[df['Sales'] >= 17000].index\n",
    "df = df.drop(rows_to_drop2)"
   ]
  },
  {
   "cell_type": "code",
   "execution_count": 24,
   "id": "d00883bb-fce2-4ee3-b1c9-dac9ef3d5005",
   "metadata": {},
   "outputs": [],
   "source": [
    "rows_to_drop = df[df['Profit'] >= 3000].index\n",
    "df = df.drop(rows_to_drop)"
   ]
  },
  {
   "cell_type": "code",
   "execution_count": 25,
   "id": "590d697b-7bdf-4ca8-9c4d-187ff5c3d729",
   "metadata": {},
   "outputs": [
    {
     "data": {
      "text/html": [
       "<div>\n",
       "<style scoped>\n",
       "    .dataframe tbody tr th:only-of-type {\n",
       "        vertical-align: middle;\n",
       "    }\n",
       "\n",
       "    .dataframe tbody tr th {\n",
       "        vertical-align: top;\n",
       "    }\n",
       "\n",
       "    .dataframe thead th {\n",
       "        text-align: right;\n",
       "    }\n",
       "</style>\n",
       "<table border=\"1\" class=\"dataframe\">\n",
       "  <thead>\n",
       "    <tr style=\"text-align: right;\">\n",
       "      <th></th>\n",
       "      <th>Row ID</th>\n",
       "      <th>Order ID</th>\n",
       "      <th>Order Date</th>\n",
       "      <th>Ship Date</th>\n",
       "      <th>Ship Mode</th>\n",
       "      <th>Customer ID</th>\n",
       "      <th>Customer Name</th>\n",
       "      <th>Segment</th>\n",
       "      <th>Country</th>\n",
       "      <th>City</th>\n",
       "      <th>...</th>\n",
       "      <th>Postal Code</th>\n",
       "      <th>Region</th>\n",
       "      <th>Product ID</th>\n",
       "      <th>Category</th>\n",
       "      <th>Sub-Category</th>\n",
       "      <th>Product Name</th>\n",
       "      <th>Sales</th>\n",
       "      <th>Quantity</th>\n",
       "      <th>Discount</th>\n",
       "      <th>Profit</th>\n",
       "    </tr>\n",
       "  </thead>\n",
       "  <tbody>\n",
       "  </tbody>\n",
       "</table>\n",
       "<p>0 rows × 21 columns</p>\n",
       "</div>"
      ],
      "text/plain": [
       "Empty DataFrame\n",
       "Columns: [Row ID, Order ID, Order Date, Ship Date, Ship Mode, Customer ID, Customer Name, Segment, Country, City, State, Postal Code, Region, Product ID, Category, Sub-Category, Product Name, Sales, Quantity, Discount, Profit]\n",
       "Index: []\n",
       "\n",
       "[0 rows x 21 columns]"
      ]
     },
     "execution_count": 25,
     "metadata": {},
     "output_type": "execute_result"
    }
   ],
   "source": [
    "df[df['Profit']>=3000]\n",
    "df[df['Sales']>=17000]"
   ]
  },
  {
   "cell_type": "code",
   "execution_count": 26,
   "id": "dc36e2b4-d78e-4d05-a3b9-dde98e2d1b34",
   "metadata": {},
   "outputs": [
    {
     "name": "stdout",
     "output_type": "stream",
     "text": [
      "0\n"
     ]
    }
   ],
   "source": [
    "print(df.isnull().sum().sum())"
   ]
  },
  {
   "cell_type": "code",
   "execution_count": 27,
   "id": "760bbe69-d126-45f9-a4e4-2e3234e4ce83",
   "metadata": {},
   "outputs": [
    {
     "data": {
      "text/plain": [
       "0   2016-11-08\n",
       "1   2016-11-08\n",
       "2   2016-06-12\n",
       "Name: Order Date, dtype: datetime64[ns]"
      ]
     },
     "execution_count": 27,
     "metadata": {},
     "output_type": "execute_result"
    }
   ],
   "source": [
    "# Преобразование столбца 'Order Date' в формат datetime \n",
    "import pandas as pd\n",
    "try:\n",
    "    df['Order Date'] = pd.to_datetime(df['Order Date'])\n",
    "except ValueError:\n",
    "    print(\"Ошибка: не удалось преобразовать 'Order Date' в формат даты.  Проверьте формат данных в столбце.\")\n",
    "    exit()\n",
    "\n",
    "df['Order Date'].head(3)"
   ]
  },
  {
   "cell_type": "code",
   "execution_count": 28,
   "id": "68de2750-cdad-4acf-a293-2778e91e3f3e",
   "metadata": {},
   "outputs": [
    {
     "data": {
      "text/plain": [
       "0    2016\n",
       "1    2016\n",
       "2    2016\n",
       "Name: Year, dtype: int32"
      ]
     },
     "execution_count": 28,
     "metadata": {},
     "output_type": "execute_result"
    }
   ],
   "source": [
    "df['Month'] = df['Order Date'].dt.month_name()\n",
    "df['Year'] = df['Order Date'].dt.year\n",
    "df['Year'].head(3)"
   ]
  },
  {
   "cell_type": "code",
   "execution_count": 29,
   "id": "c8ac7e37-4c8d-4903-bf56-ef52a4e4e67a",
   "metadata": {},
   "outputs": [
    {
     "name": "stdout",
     "output_type": "stream",
     "text": [
      "\n",
      "Удалены столбцы:\n",
      "['Row ID', 'Order ID', 'Order Date', 'Ship Date', 'Customer ID', 'Customer Name', 'Country', 'City', 'State', 'Postal Code', 'Product ID', 'Product Name']\n",
      "\n",
      "\n",
      "Оставшиеся столбцы:\n",
      "['Ship Mode', 'Segment', 'Region', 'Category', 'Sub-Category', 'Sales', 'Quantity', 'Discount', 'Profit', 'Month', 'Year']\n",
      "\n"
     ]
    }
   ],
   "source": [
    "#удалим ненужные данные\n",
    "\n",
    "# Список столбцов для удаления (добавьте все нужные)\n",
    "columns_to_drop = [col for col in df.columns \n",
    "                  if 'ID' in col\n",
    "                   or 'Date' in col\n",
    "                   or 'id' in col\n",
    "                   or 'Postal Code' in col\n",
    "                   or 'Customer Name' in col\n",
    "                   or 'Country' in col\n",
    "                   or 'City' in col\n",
    "                   or 'Product Name' in col\n",
    "                   or 'State' in col]\n",
    "\n",
    "# Удаляем выбранные столбцы\n",
    "df_filtered = df.drop(columns=columns_to_drop)\n",
    "\n",
    "print(f'''\n",
    "Удалены столбцы:\n",
    "{columns_to_drop}\n",
    "''')\n",
    "print(f'''\n",
    "Оставшиеся столбцы:\n",
    "{df_filtered.columns.tolist()}\n",
    "''')"
   ]
  },
  {
   "cell_type": "code",
   "execution_count": 30,
   "id": "92332737-eb24-436f-8e21-da08ea4fd5da",
   "metadata": {},
   "outputs": [],
   "source": [
    "from sklearn.model_selection import train_test_split\n",
    "from sklearn.metrics import mean_squared_error, r2_score\n",
    "import matplotlib.pyplot as plt  # Для визуализации"
   ]
  },
  {
   "cell_type": "code",
   "execution_count": 31,
   "id": "f8927e89-5be4-40ba-ab87-eaa91239348b",
   "metadata": {},
   "outputs": [
    {
     "data": {
      "text/html": [
       "<div>\n",
       "<style scoped>\n",
       "    .dataframe tbody tr th:only-of-type {\n",
       "        vertical-align: middle;\n",
       "    }\n",
       "\n",
       "    .dataframe tbody tr th {\n",
       "        vertical-align: top;\n",
       "    }\n",
       "\n",
       "    .dataframe thead th {\n",
       "        text-align: right;\n",
       "    }\n",
       "</style>\n",
       "<table border=\"1\" class=\"dataframe\">\n",
       "  <thead>\n",
       "    <tr style=\"text-align: right;\">\n",
       "      <th></th>\n",
       "      <th>Ship Mode</th>\n",
       "      <th>Sales</th>\n",
       "      <th>Quantity</th>\n",
       "      <th>Discount</th>\n",
       "      <th>Profit</th>\n",
       "      <th>Category_Furniture</th>\n",
       "      <th>Category_Office Supplies</th>\n",
       "      <th>Category_Technology</th>\n",
       "      <th>Segment_Consumer</th>\n",
       "      <th>Segment_Corporate</th>\n",
       "      <th>...</th>\n",
       "      <th>Month_June</th>\n",
       "      <th>Month_March</th>\n",
       "      <th>Month_May</th>\n",
       "      <th>Month_November</th>\n",
       "      <th>Month_October</th>\n",
       "      <th>Month_September</th>\n",
       "      <th>Year_2014</th>\n",
       "      <th>Year_2015</th>\n",
       "      <th>Year_2016</th>\n",
       "      <th>Year_2017</th>\n",
       "    </tr>\n",
       "  </thead>\n",
       "  <tbody>\n",
       "    <tr>\n",
       "      <th>0</th>\n",
       "      <td>Second Class</td>\n",
       "      <td>261.96</td>\n",
       "      <td>2</td>\n",
       "      <td>0.0</td>\n",
       "      <td>41.91</td>\n",
       "      <td>True</td>\n",
       "      <td>False</td>\n",
       "      <td>False</td>\n",
       "      <td>True</td>\n",
       "      <td>False</td>\n",
       "      <td>...</td>\n",
       "      <td>False</td>\n",
       "      <td>False</td>\n",
       "      <td>False</td>\n",
       "      <td>True</td>\n",
       "      <td>False</td>\n",
       "      <td>False</td>\n",
       "      <td>False</td>\n",
       "      <td>False</td>\n",
       "      <td>True</td>\n",
       "      <td>False</td>\n",
       "    </tr>\n",
       "    <tr>\n",
       "      <th>1</th>\n",
       "      <td>Second Class</td>\n",
       "      <td>731.94</td>\n",
       "      <td>3</td>\n",
       "      <td>0.0</td>\n",
       "      <td>219.58</td>\n",
       "      <td>True</td>\n",
       "      <td>False</td>\n",
       "      <td>False</td>\n",
       "      <td>True</td>\n",
       "      <td>False</td>\n",
       "      <td>...</td>\n",
       "      <td>False</td>\n",
       "      <td>False</td>\n",
       "      <td>False</td>\n",
       "      <td>True</td>\n",
       "      <td>False</td>\n",
       "      <td>False</td>\n",
       "      <td>False</td>\n",
       "      <td>False</td>\n",
       "      <td>True</td>\n",
       "      <td>False</td>\n",
       "    </tr>\n",
       "    <tr>\n",
       "      <th>2</th>\n",
       "      <td>Second Class</td>\n",
       "      <td>14.62</td>\n",
       "      <td>2</td>\n",
       "      <td>0.0</td>\n",
       "      <td>6.87</td>\n",
       "      <td>False</td>\n",
       "      <td>True</td>\n",
       "      <td>False</td>\n",
       "      <td>False</td>\n",
       "      <td>True</td>\n",
       "      <td>...</td>\n",
       "      <td>True</td>\n",
       "      <td>False</td>\n",
       "      <td>False</td>\n",
       "      <td>False</td>\n",
       "      <td>False</td>\n",
       "      <td>False</td>\n",
       "      <td>False</td>\n",
       "      <td>False</td>\n",
       "      <td>True</td>\n",
       "      <td>False</td>\n",
       "    </tr>\n",
       "  </tbody>\n",
       "</table>\n",
       "<p>3 rows × 48 columns</p>\n",
       "</div>"
      ],
      "text/plain": [
       "      Ship Mode   Sales  Quantity  Discount  Profit  Category_Furniture  \\\n",
       "0  Second Class  261.96         2       0.0   41.91                True   \n",
       "1  Second Class  731.94         3       0.0  219.58                True   \n",
       "2  Second Class   14.62         2       0.0    6.87               False   \n",
       "\n",
       "   Category_Office Supplies  Category_Technology  Segment_Consumer  \\\n",
       "0                     False                False              True   \n",
       "1                     False                False              True   \n",
       "2                      True                False             False   \n",
       "\n",
       "   Segment_Corporate  ...  Month_June  Month_March  Month_May  Month_November  \\\n",
       "0              False  ...       False        False      False            True   \n",
       "1              False  ...       False        False      False            True   \n",
       "2               True  ...        True        False      False           False   \n",
       "\n",
       "   Month_October  Month_September  Year_2014  Year_2015  Year_2016  Year_2017  \n",
       "0          False            False      False      False       True      False  \n",
       "1          False            False      False      False       True      False  \n",
       "2          False            False      False      False       True      False  \n",
       "\n",
       "[3 rows x 48 columns]"
      ]
     },
     "execution_count": 31,
     "metadata": {},
     "output_type": "execute_result"
    }
   ],
   "source": [
    "#преобразуем категориальные признаки (кроме Ship Mode т.к. там необходимо устнаовить класс доставки по возрастанию - от низкого до высокого)\n",
    "df_filtered = pd.get_dummies(df_filtered, columns=['Category', 'Segment','Sub-Category', 'Region','Month', 'Year'])\n",
    "df_filtered.head(3)#сделать это до разделения на трейн и тест!!!!!!!"
   ]
  },
  {
   "cell_type": "code",
   "execution_count": 32,
   "id": "66a49933-ee61-45b9-a18c-97916c947b01",
   "metadata": {},
   "outputs": [
    {
     "data": {
      "text/plain": [
       "array(['Second Class', 'Standard Class', 'First Class', 'Same Day'],\n",
       "      dtype=object)"
      ]
     },
     "execution_count": 32,
     "metadata": {},
     "output_type": "execute_result"
    }
   ],
   "source": [
    "#преобразуем категориальные признаки по столбцу Ship Mode\n",
    "df_filtered['Ship Mode'].unique()"
   ]
  },
  {
   "cell_type": "code",
   "execution_count": 33,
   "id": "21278ed9-a825-467c-b69e-fdd3cc68e980",
   "metadata": {},
   "outputs": [
    {
     "data": {
      "text/html": [
       "<div>\n",
       "<style scoped>\n",
       "    .dataframe tbody tr th:only-of-type {\n",
       "        vertical-align: middle;\n",
       "    }\n",
       "\n",
       "    .dataframe tbody tr th {\n",
       "        vertical-align: top;\n",
       "    }\n",
       "\n",
       "    .dataframe thead th {\n",
       "        text-align: right;\n",
       "    }\n",
       "</style>\n",
       "<table border=\"1\" class=\"dataframe\">\n",
       "  <thead>\n",
       "    <tr style=\"text-align: right;\">\n",
       "      <th></th>\n",
       "      <th>Ship Mode</th>\n",
       "      <th>Sales</th>\n",
       "      <th>Quantity</th>\n",
       "      <th>Discount</th>\n",
       "      <th>Profit</th>\n",
       "      <th>Category_Furniture</th>\n",
       "      <th>Category_Office Supplies</th>\n",
       "      <th>Category_Technology</th>\n",
       "      <th>Segment_Consumer</th>\n",
       "      <th>Segment_Corporate</th>\n",
       "      <th>...</th>\n",
       "      <th>Month_June</th>\n",
       "      <th>Month_March</th>\n",
       "      <th>Month_May</th>\n",
       "      <th>Month_November</th>\n",
       "      <th>Month_October</th>\n",
       "      <th>Month_September</th>\n",
       "      <th>Year_2014</th>\n",
       "      <th>Year_2015</th>\n",
       "      <th>Year_2016</th>\n",
       "      <th>Year_2017</th>\n",
       "    </tr>\n",
       "  </thead>\n",
       "  <tbody>\n",
       "    <tr>\n",
       "      <th>0</th>\n",
       "      <td>3</td>\n",
       "      <td>261.96</td>\n",
       "      <td>2</td>\n",
       "      <td>0.0</td>\n",
       "      <td>41.91</td>\n",
       "      <td>True</td>\n",
       "      <td>False</td>\n",
       "      <td>False</td>\n",
       "      <td>True</td>\n",
       "      <td>False</td>\n",
       "      <td>...</td>\n",
       "      <td>False</td>\n",
       "      <td>False</td>\n",
       "      <td>False</td>\n",
       "      <td>True</td>\n",
       "      <td>False</td>\n",
       "      <td>False</td>\n",
       "      <td>False</td>\n",
       "      <td>False</td>\n",
       "      <td>True</td>\n",
       "      <td>False</td>\n",
       "    </tr>\n",
       "    <tr>\n",
       "      <th>1</th>\n",
       "      <td>3</td>\n",
       "      <td>731.94</td>\n",
       "      <td>3</td>\n",
       "      <td>0.0</td>\n",
       "      <td>219.58</td>\n",
       "      <td>True</td>\n",
       "      <td>False</td>\n",
       "      <td>False</td>\n",
       "      <td>True</td>\n",
       "      <td>False</td>\n",
       "      <td>...</td>\n",
       "      <td>False</td>\n",
       "      <td>False</td>\n",
       "      <td>False</td>\n",
       "      <td>True</td>\n",
       "      <td>False</td>\n",
       "      <td>False</td>\n",
       "      <td>False</td>\n",
       "      <td>False</td>\n",
       "      <td>True</td>\n",
       "      <td>False</td>\n",
       "    </tr>\n",
       "    <tr>\n",
       "      <th>2</th>\n",
       "      <td>3</td>\n",
       "      <td>14.62</td>\n",
       "      <td>2</td>\n",
       "      <td>0.0</td>\n",
       "      <td>6.87</td>\n",
       "      <td>False</td>\n",
       "      <td>True</td>\n",
       "      <td>False</td>\n",
       "      <td>False</td>\n",
       "      <td>True</td>\n",
       "      <td>...</td>\n",
       "      <td>True</td>\n",
       "      <td>False</td>\n",
       "      <td>False</td>\n",
       "      <td>False</td>\n",
       "      <td>False</td>\n",
       "      <td>False</td>\n",
       "      <td>False</td>\n",
       "      <td>False</td>\n",
       "      <td>True</td>\n",
       "      <td>False</td>\n",
       "    </tr>\n",
       "  </tbody>\n",
       "</table>\n",
       "<p>3 rows × 48 columns</p>\n",
       "</div>"
      ],
      "text/plain": [
       "   Ship Mode   Sales  Quantity  Discount  Profit  Category_Furniture  \\\n",
       "0          3  261.96         2       0.0   41.91                True   \n",
       "1          3  731.94         3       0.0  219.58                True   \n",
       "2          3   14.62         2       0.0    6.87               False   \n",
       "\n",
       "   Category_Office Supplies  Category_Technology  Segment_Consumer  \\\n",
       "0                     False                False              True   \n",
       "1                     False                False              True   \n",
       "2                      True                False             False   \n",
       "\n",
       "   Segment_Corporate  ...  Month_June  Month_March  Month_May  Month_November  \\\n",
       "0              False  ...       False        False      False            True   \n",
       "1              False  ...       False        False      False            True   \n",
       "2               True  ...        True        False      False           False   \n",
       "\n",
       "   Month_October  Month_September  Year_2014  Year_2015  Year_2016  Year_2017  \n",
       "0          False            False      False      False       True      False  \n",
       "1          False            False      False      False       True      False  \n",
       "2          False            False      False      False       True      False  \n",
       "\n",
       "[3 rows x 48 columns]"
      ]
     },
     "execution_count": 33,
     "metadata": {},
     "output_type": "execute_result"
    }
   ],
   "source": [
    "ship_mode_mapping = {'Same Day': 1, 'First Class': int(2), 'Second Class': 3, 'Standard Class': 4}\n",
    "df_filtered['Ship Mode'] = df_filtered['Ship Mode'].map(ship_mode_mapping)\n",
    "df_filtered.head(3)"
   ]
  },
  {
   "cell_type": "code",
   "execution_count": 34,
   "id": "c49c6d57-e20d-4b3f-a84d-277ebd4ba786",
   "metadata": {},
   "outputs": [],
   "source": [
    "X = df_filtered.drop('Profit', axis=1)\n",
    "y = df_filtered['Profit']"
   ]
  },
  {
   "cell_type": "code",
   "execution_count": 35,
   "id": "fe5a5f6f-bd68-497a-a139-4c00bb54fc37",
   "metadata": {},
   "outputs": [],
   "source": [
    "# Разделение данных на обучающую и тестовую выборки\n",
    "X_train, X_test, y_train, y_test = train_test_split(X, y, test_size=0.2, random_state=1)"
   ]
  },
  {
   "cell_type": "code",
   "execution_count": 263,
   "id": "6476704c-a765-433f-9f0e-8ae9c85906f4",
   "metadata": {
    "jupyter": {
     "source_hidden": true
    }
   },
   "outputs": [
    {
     "name": "stdout",
     "output_type": "stream",
     "text": [
      "Optimal lambda value: -0.04676055367777093\n",
      "среднее значение: 3.7173487587438045\n"
     ]
    }
   ],
   "source": [
    "# from scipy import stats\n",
    "\n",
    "# # Уберем выбросы в Sales (в test и train выборках) т.к. они достаточно большие\n",
    "\n",
    "# min_val = X_train['Sales'].min()\n",
    "# min_val_test = X_test['Sales'].min()\n",
    "\n",
    "# # 1. Определим константу для добавления\n",
    "# if min_val <= 0 and min_val_test <= 0:\n",
    "#     constant = abs(min_val) + 1e-6 # Добавляем небольшую константу\n",
    "#     constant_test = abs(min_val_test) + 1e-6 \n",
    "# else:\n",
    "#     constant = 0  # Данные уже положительные\n",
    "#     constant_test = 0\n",
    "\n",
    "# # 2. Добавим константу ко всем значениям в столбце\n",
    "# X_train['Sales'] = X_train['Sales'] + constant\n",
    "# X_test['Sales'] = X_test['Sales'] + constant_test\n",
    "\n",
    "\n",
    "# # 3. Выполним преобразование Бокса-Кокса\n",
    "# transformed_data, lambda_value = stats.boxcox(X_train['Sales'])\n",
    "# transformed_data_test, lambda_value = stats.boxcox(X_test['Sales'])\n",
    "\n",
    "\n",
    "# # 4. Добавим преобразованные данные в DataFrame\n",
    "# X_train['Sales'] = transformed_data\n",
    "# X_test['Sales'] = transformed_data_test\n",
    "\n",
    "# # 5. Выведем оптимальное значение lambda\n",
    "# print(f\"Optimal lambda value: {lambda_value}\")\n",
    "# print(f'среднее значение: {X_test['Sales'].mean()}')"
   ]
  },
  {
   "cell_type": "code",
   "execution_count": 264,
   "id": "e6c449f8-61df-4c16-a9e9-68e30bcb7c28",
   "metadata": {
    "jupyter": {
     "source_hidden": true
    }
   },
   "outputs": [
    {
     "name": "stdout",
     "output_type": "stream",
     "text": [
      "Optimal lambda value: 2.436000183493777\n",
      "среднее значение: 5207914.683119753\n"
     ]
    }
   ],
   "source": [
    "# # Уберем выбросы в таргете (в test и train выборках) т.к. они достаточно большие\n",
    "\n",
    "# min_val2 = y_train.min()\n",
    "# min_val2_test = y_test.min()\n",
    "\n",
    "\n",
    "# # 3. Определим константу для добавления\n",
    "# if min_val2 <= 0 or min_val2_test <= 0:\n",
    "#     constant = abs(min_val2) + 1e-6\n",
    "#     constant_test = abs(min_val2_test) + 1e-6 # Добавляем небольшую константу\n",
    "# else:\n",
    "#     constant = 0  # Данные уже положительные\n",
    "#     constant_test = 0\n",
    "\n",
    "# # 4. Добавим константу ко всем значениям в столбце\n",
    "# y_train = y_train + constant\n",
    "# y_test = y_test + constant\n",
    "\n",
    "\n",
    "# # 5. Выполним преобразование Бокса-Кокса\n",
    "# transformed_data2, lambda_value2 = stats.boxcox(y_train)\n",
    "# transformed_data2_test, lambda_value2 = stats.boxcox(y_test)\n",
    "\n",
    "\n",
    "# # 6. Добавим преобразованные данные в DataFrame\n",
    "# y_train = transformed_data2\n",
    "# y_test = transformed_data2_test\n",
    "\n",
    "# # 7. Выведем оптимальное значение lambda\n",
    "# print(f\"Optimal lambda value: {lambda_value2}\")\n",
    "\n",
    "# print(f'среднее значение: {y_train.mean()}')\n"
   ]
  },
  {
   "cell_type": "code",
   "execution_count": 265,
   "id": "e3773838-ece7-4f18-91e5-41986d7aeabb",
   "metadata": {
    "collapsed": true,
    "jupyter": {
     "outputs_hidden": true,
     "source_hidden": true
    }
   },
   "outputs": [
    {
     "data": {
      "image/png": "[encoded data removed]",
      "text/plain": [
       "<Figure size 800x1600 with 8 Axes>"
      ]
     },
     "metadata": {},
     "output_type": "display_data"
    },
    {
     "name": "stdout",
     "output_type": "stream",
     "text": [
      "Shapiro-Wilk test: statistic=0.363, p-value=0.000\n"
     ]
    }
   ],
   "source": [
    "# from scipy import stats\n",
    "# import matplotlib.pyplot as plt\n",
    "\n",
    "# # 4. Визуализируем данные до и после преобразования\n",
    "# fig, axes = plt.subplots(4, 2, figsize=(8, 16))\n",
    "\n",
    "\n",
    "# # До преобразования\n",
    "# axes[0, 0].hist(X_train['Sales'], bins=20)\n",
    "# axes[0, 0].set_title(\"Original Data (Exponential) X_train\")\n",
    "\n",
    "# axes[1, 0].hist(X_test['Sales'], bins=20)\n",
    "# axes[1, 0].set_title(\"Original Data (Exponential) X_test\")\n",
    "\n",
    "# axes[2, 0].hist(y_train, bins=20)\n",
    "# axes[2, 0].set_title(\"Original Data (Exponential) y_train\")\n",
    "\n",
    "# axes[3, 0].hist(y_test, bins=20)\n",
    "# axes[3, 0].set_title(\"Original Data (Exponential) y_test\")\n",
    "\n",
    "\n",
    "# # После преобразования \n",
    "\n",
    "# axes[0, 1].hist(transformed_data, bins=20)\n",
    "# axes[0, 1].set_title(\"Box-Cox Transformed Data X_train\")\n",
    "\n",
    "# axes[1, 1].hist(transformed_data_test, bins=20)\n",
    "# axes[1, 1].set_title(\"Box-Cox Transformed Data X_test\")\n",
    "\n",
    "# axes[2, 1].hist(transformed_data2, bins=20)\n",
    "# axes[2, 1].set_title(\"Box-Cox Transformed Data y_train\")\n",
    "\n",
    "# axes[3, 1].hist(transformed_data2_test, bins=20)\n",
    "# axes[3, 1].set_title(\"Box-Cox Transformed Data y_test\")\n",
    "\n",
    "# plt.show()\n",
    "\n",
    "# # 5. Проверим нормальность преобразованных данных (например, с помощью теста Шапиро-Уилка)\n",
    "# shapiro_test = stats.shapiro(transformed_data2)\n",
    "# print(f\"Shapiro-Wilk test: statistic={shapiro_test.statistic:.3f}, p-value={shapiro_test.pvalue:.3f}\")\n",
    "\n",
    "# # Интерпретация теста Шапиро-Уилка:\n",
    "# # Если p-value > 0.05, то гипотеза о нормальности не отвергается."
   ]
  },
  {
   "cell_type": "code",
   "execution_count": 36,
   "id": "2bb46bfd-1693-4da1-bee4-1e669e0d8f3f",
   "metadata": {
    "jupyter": {
     "source_hidden": true
    }
   },
   "outputs": [
    {
     "name": "stdout",
     "output_type": "stream",
     "text": [
      "Ship Mode, Sales, Quantity, Discount, Profit, Category_Furniture, Category_Office Supplies, Category_Technology, Segment_Consumer, Segment_Corporate, Segment_Home Office, Sub-Category_Accessories, Sub-Category_Appliances, Sub-Category_Art, Sub-Category_Binders, Sub-Category_Bookcases, Sub-Category_Chairs, Sub-Category_Copiers, Sub-Category_Envelopes, Sub-Category_Fasteners, Sub-Category_Furnishings, Sub-Category_Labels, Sub-Category_Machines, Sub-Category_Paper, Sub-Category_Phones, Sub-Category_Storage, Sub-Category_Supplies, Sub-Category_Tables, Region_Central, Region_East, Region_South, Region_West, Month_April, Month_August, Month_December, Month_February, Month_January, Month_July, Month_June, Month_March, Month_May, Month_November, Month_October, Month_September, Year_2014, Year_2015, Year_2016, Year_2017\n"
     ]
    }
   ],
   "source": [
    "\n",
    "# Получаем список названий столбцов\n",
    "column_names = df_filtered.columns.tolist()\n",
    "\n",
    "# Объединяем названия столбцов в строку, разделяя запятой и пробелом\n",
    "column_names_string = ', '.join(column_names)\n",
    "\n",
    "# Выводим строку\n",
    "print(column_names_string)"
   ]
  },
  {
   "cell_type": "code",
   "execution_count": null,
   "id": "a03fb118-9fcc-4efc-b326-22ce4c4bd055",
   "metadata": {},
   "outputs": [],
   "source": [
    "#остановилась на визуал-ии дерева решений, переделать рендом форест, у меня просто одно дерево решений!!!"
   ]
  },
  {
   "cell_type": "code",
   "execution_count": 38,
   "id": "d7d4dda1-a9cc-4f6c-b0b1-a085c2d147d4",
   "metadata": {
    "collapsed": true,
    "jupyter": {
     "outputs_hidden": true,
     "source_hidden": true
    }
   },
   "outputs": [
    {
     "ename": "IndexError",
     "evalue": "list index out of range",
     "output_type": "error",
     "traceback": [
      "\u001b[1;31m---------------------------------------------------------------------------\u001b[0m",
      "\u001b[1;31mIndexError\u001b[0m                                Traceback (most recent call last)",
      "Cell \u001b[1;32mIn[38], line 13\u001b[0m\n\u001b[0;32m     10\u001b[0m \u001b[38;5;66;03m# print(classification_report(y_test, pred))\u001b[39;00m\n\u001b[0;32m     12\u001b[0m plt\u001b[38;5;241m.\u001b[39mfigure(figsize\u001b[38;5;241m=\u001b[39m(\u001b[38;5;241m12\u001b[39m, \u001b[38;5;241m8\u001b[39m))  \u001b[38;5;66;03m# Настройте размер фигуры (ширина, высота)\u001b[39;00m\n\u001b[1;32m---> 13\u001b[0m \u001b[43mtree\u001b[49m\u001b[38;5;241;43m.\u001b[39;49m\u001b[43mplot_tree\u001b[49m\u001b[43m(\u001b[49m\u001b[43mclf\u001b[49m\u001b[43m,\u001b[49m\n\u001b[0;32m     14\u001b[0m \u001b[43m               \u001b[49m\u001b[43mfilled\u001b[49m\u001b[38;5;241;43m=\u001b[39;49m\u001b[38;5;28;43;01mTrue\u001b[39;49;00m\u001b[43m,\u001b[49m\u001b[43m  \u001b[49m\u001b[38;5;66;43;03m# Заполнить узлы цветом\u001b[39;49;00m\n\u001b[0;32m     15\u001b[0m \u001b[43m               \u001b[49m\u001b[43mfeature_names\u001b[49m\u001b[38;5;241;43m=\u001b[39;49m\u001b[43m[\u001b[49m\u001b[38;5;124;43m'\u001b[39;49m\u001b[38;5;124;43mShip Mode\tSales\u001b[39;49m\u001b[38;5;124;43m'\u001b[39;49m\u001b[43m,\u001b[49m\u001b[43m\t\u001b[49m\u001b[38;5;124;43m'\u001b[39;49m\u001b[38;5;124;43mQuantity\u001b[39;49m\u001b[38;5;124;43m'\u001b[39;49m\u001b[43m,\u001b[49m\u001b[43m\t\u001b[49m\u001b[38;5;124;43m'\u001b[39;49m\u001b[38;5;124;43mDiscount\u001b[39;49m\u001b[38;5;124;43m'\u001b[39;49m\u001b[43m,\u001b[49m\u001b[43m\t\u001b[49m\u001b[38;5;124;43m'\u001b[39;49m\u001b[38;5;124;43mProfit\u001b[39;49m\u001b[38;5;124;43m'\u001b[39;49m\u001b[43m,\u001b[49m\u001b[43m \u001b[49m\u001b[38;5;124;43m'\u001b[39;49m\u001b[38;5;124;43mCategory_Furniture\u001b[39;49m\u001b[38;5;124;43m'\u001b[39;49m\u001b[43m,\u001b[49m\u001b[43m\t\u001b[49m\u001b[38;5;124;43m'\u001b[39;49m\u001b[38;5;124;43mCategory_Office Supplies\u001b[39;49m\u001b[38;5;124;43m'\u001b[39;49m\u001b[43m,\u001b[49m\u001b[43m\t\u001b[49m\u001b[38;5;124;43m'\u001b[39;49m\u001b[38;5;124;43mCategory_Technology\u001b[39;49m\u001b[38;5;124;43m'\u001b[39;49m\u001b[43m,\u001b[49m\u001b[43m\t\u001b[49m\u001b[38;5;124;43m'\u001b[39;49m\u001b[38;5;124;43mSegment_Consumer\u001b[39;49m\u001b[38;5;124;43m'\u001b[39;49m\u001b[43m,\u001b[49m\u001b[43m\t\u001b[49m\u001b[38;5;124;43m'\u001b[39;49m\u001b[38;5;124;43mSegment_Corporate\u001b[39;49m\u001b[38;5;124;43m'\u001b[39;49m\u001b[43m,\u001b[49m\u001b[38;5;124;43m'\u001b[39;49m\u001b[38;5;124;43mSegment_Home Office\u001b[39;49m\u001b[38;5;124;43m'\u001b[39;49m\u001b[43m,\u001b[49m\u001b[43m \u001b[49m\u001b[38;5;124;43m'\u001b[39;49m\u001b[38;5;124;43mSub-Category_Accessories\u001b[39;49m\u001b[38;5;124;43m'\u001b[39;49m\u001b[43m,\u001b[49m\u001b[43m \u001b[49m\u001b[38;5;124;43m'\u001b[39;49m\u001b[38;5;124;43mSub-Category_Appliances\u001b[39;49m\u001b[38;5;124;43m'\u001b[39;49m\u001b[43m,\u001b[49m\u001b[43m \u001b[49m\u001b[38;5;124;43m'\u001b[39;49m\u001b[38;5;124;43mSub-Category_Art\u001b[39;49m\u001b[38;5;124;43m'\u001b[39;49m\u001b[43m,\u001b[49m\u001b[43m \u001b[49m\u001b[38;5;124;43m'\u001b[39;49m\u001b[38;5;124;43mSub-Category_Binders\u001b[39;49m\u001b[38;5;124;43m'\u001b[39;49m\u001b[43m,\u001b[49m\u001b[43m \u001b[49m\u001b[38;5;124;43m'\u001b[39;49m\u001b[38;5;124;43mSub-Category_Bookcases\u001b[39;49m\u001b[38;5;124;43m'\u001b[39;49m\u001b[43m,\u001b[49m\u001b[43m \u001b[49m\u001b[38;5;124;43m'\u001b[39;49m\u001b[38;5;124;43mSub-Category_Chairs\u001b[39;49m\u001b[38;5;124;43m'\u001b[39;49m\u001b[43m,\u001b[49m\u001b[43m \u001b[49m\u001b[38;5;124;43m'\u001b[39;49m\u001b[38;5;124;43mSub-Category_Copiers\u001b[39;49m\u001b[38;5;124;43m'\u001b[39;49m\u001b[43m,\u001b[49m\u001b[43m \u001b[49m\u001b[38;5;124;43m'\u001b[39;49m\u001b[38;5;124;43mSub-Category_Envelopes\u001b[39;49m\u001b[38;5;124;43m'\u001b[39;49m\u001b[43m,\u001b[49m\u001b[43m \u001b[49m\u001b[38;5;124;43m'\u001b[39;49m\u001b[38;5;124;43mSub-Category_Fasteners\u001b[39;49m\u001b[38;5;124;43m'\u001b[39;49m\u001b[43m,\u001b[49m\u001b[43m \u001b[49m\u001b[38;5;124;43m'\u001b[39;49m\u001b[38;5;124;43mSub-Category_Furnishings\u001b[39;49m\u001b[38;5;124;43m'\u001b[39;49m\u001b[43m,\u001b[49m\u001b[43m \u001b[49m\u001b[38;5;124;43m'\u001b[39;49m\u001b[38;5;124;43mSub-Category_Labels\u001b[39;49m\u001b[38;5;124;43m'\u001b[39;49m\u001b[43m,\u001b[49m\u001b[43m \u001b[49m\u001b[38;5;124;43m'\u001b[39;49m\u001b[38;5;124;43mSub-Category_Machines\u001b[39;49m\u001b[38;5;124;43m'\u001b[39;49m\u001b[43m,\u001b[49m\u001b[43m \u001b[49m\u001b[38;5;124;43m'\u001b[39;49m\u001b[38;5;124;43mSub-Category_Paper\u001b[39;49m\u001b[38;5;124;43m'\u001b[39;49m\u001b[43m,\u001b[49m\u001b[43m \u001b[49m\u001b[38;5;124;43m'\u001b[39;49m\u001b[38;5;124;43mSub-Category_Phones\u001b[39;49m\u001b[38;5;124;43m'\u001b[39;49m\u001b[43m,\u001b[49m\u001b[43m \u001b[49m\u001b[38;5;124;43m'\u001b[39;49m\u001b[38;5;124;43mSub-Category_Storage\u001b[39;49m\u001b[38;5;124;43m'\u001b[39;49m\u001b[43m,\u001b[49m\u001b[43m \u001b[49m\u001b[38;5;124;43m'\u001b[39;49m\u001b[38;5;124;43mSub-Category_Supplies\u001b[39;49m\u001b[38;5;124;43m'\u001b[39;49m\u001b[43m,\u001b[49m\u001b[43m \u001b[49m\u001b[38;5;124;43m'\u001b[39;49m\u001b[38;5;124;43mSub-Category_Tables\u001b[39;49m\u001b[38;5;124;43m'\u001b[39;49m\u001b[43m,\u001b[49m\u001b[43m \u001b[49m\u001b[38;5;124;43m'\u001b[39;49m\u001b[38;5;124;43mRegion_Central\u001b[39;49m\u001b[38;5;124;43m'\u001b[39;49m\u001b[43m,\u001b[49m\u001b[43m \u001b[49m\u001b[38;5;124;43m'\u001b[39;49m\u001b[38;5;124;43mRegion_East\u001b[39;49m\u001b[38;5;124;43m'\u001b[39;49m\u001b[43m,\u001b[49m\u001b[43m \u001b[49m\u001b[38;5;124;43m'\u001b[39;49m\u001b[38;5;124;43mRegion_South\u001b[39;49m\u001b[38;5;124;43m'\u001b[39;49m\u001b[43m,\u001b[49m\u001b[43m \u001b[49m\u001b[38;5;124;43m'\u001b[39;49m\u001b[38;5;124;43mRegion_West\u001b[39;49m\u001b[38;5;124;43m'\u001b[39;49m\u001b[43m,\u001b[49m\u001b[43m \u001b[49m\u001b[38;5;124;43m'\u001b[39;49m\u001b[38;5;124;43mMonth_April\u001b[39;49m\u001b[38;5;124;43m'\u001b[39;49m\u001b[43m,\u001b[49m\u001b[43m \u001b[49m\u001b[38;5;124;43m'\u001b[39;49m\u001b[38;5;124;43mMonth_August\u001b[39;49m\u001b[38;5;124;43m'\u001b[39;49m\u001b[43m,\u001b[49m\u001b[43m \u001b[49m\u001b[38;5;124;43m'\u001b[39;49m\u001b[38;5;124;43mMonth_December\u001b[39;49m\u001b[38;5;124;43m'\u001b[39;49m\u001b[43m,\u001b[49m\u001b[43m \u001b[49m\u001b[38;5;124;43m'\u001b[39;49m\u001b[38;5;124;43mMonth_February\u001b[39;49m\u001b[38;5;124;43m'\u001b[39;49m\u001b[43m,\u001b[49m\u001b[43m \u001b[49m\u001b[38;5;124;43m'\u001b[39;49m\u001b[38;5;124;43mMonth_January\u001b[39;49m\u001b[38;5;124;43m'\u001b[39;49m\u001b[43m,\u001b[49m\u001b[43m \u001b[49m\u001b[38;5;124;43m'\u001b[39;49m\u001b[38;5;124;43mMonth_June\u001b[39;49m\u001b[38;5;124;43m'\u001b[39;49m\u001b[43m,\u001b[49m\u001b[43m\t\u001b[49m\u001b[38;5;124;43m'\u001b[39;49m\u001b[38;5;124;43mMonth_March\u001b[39;49m\u001b[38;5;124;43m'\u001b[39;49m\u001b[43m,\u001b[49m\u001b[43m\t\u001b[49m\u001b[38;5;124;43m'\u001b[39;49m\u001b[38;5;124;43mMonth_May\u001b[39;49m\u001b[38;5;124;43m'\u001b[39;49m\u001b[43m,\u001b[49m\u001b[43m \u001b[49m\u001b[38;5;124;43m'\u001b[39;49m\u001b[38;5;124;43mMonth_November\u001b[39;49m\u001b[38;5;124;43m'\u001b[39;49m\u001b[43m,\u001b[49m\u001b[43m\t\u001b[49m\u001b[38;5;124;43m'\u001b[39;49m\u001b[38;5;124;43mMonth_October\u001b[39;49m\u001b[38;5;124;43m'\u001b[39;49m\u001b[43m,\u001b[49m\u001b[43m\t\u001b[49m\u001b[38;5;124;43m'\u001b[39;49m\u001b[38;5;124;43mMonth_September\u001b[39;49m\u001b[38;5;124;43m'\u001b[39;49m\u001b[43m,\u001b[49m\u001b[43m\t\u001b[49m\u001b[38;5;124;43m'\u001b[39;49m\u001b[38;5;124;43mYear_2014\u001b[39;49m\u001b[38;5;124;43m'\u001b[39;49m\u001b[43m,\u001b[49m\u001b[43m\t\u001b[49m\u001b[38;5;124;43m'\u001b[39;49m\u001b[38;5;124;43mYear_2015\u001b[39;49m\u001b[38;5;124;43m'\u001b[39;49m\u001b[43m,\u001b[49m\u001b[43m\t\u001b[49m\u001b[38;5;124;43m'\u001b[39;49m\u001b[38;5;124;43mYear_2016\u001b[39;49m\u001b[38;5;124;43m'\u001b[39;49m\u001b[43m,\u001b[49m\u001b[43m\t\u001b[49m\u001b[38;5;124;43m'\u001b[39;49m\u001b[38;5;124;43mYear_2017\u001b[39;49m\u001b[38;5;124;43m'\u001b[39;49m\u001b[43m]\u001b[49m\u001b[43m,\u001b[49m\u001b[43m  \u001b[49m\u001b[38;5;66;43;03m# Имена признаков\u001b[39;49;00m\n\u001b[0;32m     16\u001b[0m \u001b[43m               \u001b[49m\u001b[43mrounded\u001b[49m\u001b[38;5;241;43m=\u001b[39;49m\u001b[38;5;28;43;01mTrue\u001b[39;49;00m\u001b[43m,\u001b[49m\u001b[43m \u001b[49m\u001b[38;5;66;43;03m# Округлить углы\u001b[39;49;00m\n\u001b[0;32m     17\u001b[0m \u001b[43m               \u001b[49m\u001b[43mfontsize\u001b[49m\u001b[38;5;241;43m=\u001b[39;49m\u001b[38;5;241;43m10\u001b[39;49m\u001b[43m \u001b[49m\u001b[38;5;66;43;03m#размер шрифта\u001b[39;49;00m\n\u001b[0;32m     18\u001b[0m \u001b[43m               \u001b[49m\u001b[43m)\u001b[49m \u001b[38;5;66;03m#  Обратите внимание на отступы!\u001b[39;00m\n\u001b[0;32m     20\u001b[0m plt\u001b[38;5;241m.\u001b[39mshow() \u001b[38;5;66;03m# Показать график\u001b[39;00m\n",
      "File \u001b[1;32m~\\AppData\\Local\\Programs\\Python\\Python313\\Lib\\site-packages\\sklearn\\utils\\_param_validation.py:216\u001b[0m, in \u001b[0;36mvalidate_params.<locals>.decorator.<locals>.wrapper\u001b[1;34m(*args, **kwargs)\u001b[0m\n\u001b[0;32m    210\u001b[0m \u001b[38;5;28;01mtry\u001b[39;00m:\n\u001b[0;32m    211\u001b[0m     \u001b[38;5;28;01mwith\u001b[39;00m config_context(\n\u001b[0;32m    212\u001b[0m         skip_parameter_validation\u001b[38;5;241m=\u001b[39m(\n\u001b[0;32m    213\u001b[0m             prefer_skip_nested_validation \u001b[38;5;129;01mor\u001b[39;00m global_skip_validation\n\u001b[0;32m    214\u001b[0m         )\n\u001b[0;32m    215\u001b[0m     ):\n\u001b[1;32m--> 216\u001b[0m         \u001b[38;5;28;01mreturn\u001b[39;00m \u001b[43mfunc\u001b[49m\u001b[43m(\u001b[49m\u001b[38;5;241;43m*\u001b[39;49m\u001b[43margs\u001b[49m\u001b[43m,\u001b[49m\u001b[43m \u001b[49m\u001b[38;5;241;43m*\u001b[39;49m\u001b[38;5;241;43m*\u001b[39;49m\u001b[43mkwargs\u001b[49m\u001b[43m)\u001b[49m\n\u001b[0;32m    217\u001b[0m \u001b[38;5;28;01mexcept\u001b[39;00m InvalidParameterError \u001b[38;5;28;01mas\u001b[39;00m e:\n\u001b[0;32m    218\u001b[0m     \u001b[38;5;66;03m# When the function is just a wrapper around an estimator, we allow\u001b[39;00m\n\u001b[0;32m    219\u001b[0m     \u001b[38;5;66;03m# the function to delegate validation to the estimator, but we replace\u001b[39;00m\n\u001b[0;32m    220\u001b[0m     \u001b[38;5;66;03m# the name of the estimator by the name of the function in the error\u001b[39;00m\n\u001b[0;32m    221\u001b[0m     \u001b[38;5;66;03m# message to avoid confusion.\u001b[39;00m\n\u001b[0;32m    222\u001b[0m     msg \u001b[38;5;241m=\u001b[39m re\u001b[38;5;241m.\u001b[39msub(\n\u001b[0;32m    223\u001b[0m         \u001b[38;5;124mr\u001b[39m\u001b[38;5;124m\"\u001b[39m\u001b[38;5;124mparameter of \u001b[39m\u001b[38;5;124m\\\u001b[39m\u001b[38;5;124mw+ must be\u001b[39m\u001b[38;5;124m\"\u001b[39m,\n\u001b[0;32m    224\u001b[0m         \u001b[38;5;124mf\u001b[39m\u001b[38;5;124m\"\u001b[39m\u001b[38;5;124mparameter of \u001b[39m\u001b[38;5;132;01m{\u001b[39;00mfunc\u001b[38;5;241m.\u001b[39m\u001b[38;5;18m__qualname__\u001b[39m\u001b[38;5;132;01m}\u001b[39;00m\u001b[38;5;124m must be\u001b[39m\u001b[38;5;124m\"\u001b[39m,\n\u001b[0;32m    225\u001b[0m         \u001b[38;5;28mstr\u001b[39m(e),\n\u001b[0;32m    226\u001b[0m     )\n",
      "File \u001b[1;32m~\\AppData\\Local\\Programs\\Python\\Python313\\Lib\\site-packages\\sklearn\\tree\\_export.py:205\u001b[0m, in \u001b[0;36mplot_tree\u001b[1;34m(decision_tree, max_depth, feature_names, class_names, label, filled, impurity, node_ids, proportion, rounded, precision, ax, fontsize)\u001b[0m\n\u001b[0;32m    190\u001b[0m check_is_fitted(decision_tree)\n\u001b[0;32m    192\u001b[0m exporter \u001b[38;5;241m=\u001b[39m _MPLTreeExporter(\n\u001b[0;32m    193\u001b[0m     max_depth\u001b[38;5;241m=\u001b[39mmax_depth,\n\u001b[0;32m    194\u001b[0m     feature_names\u001b[38;5;241m=\u001b[39mfeature_names,\n\u001b[1;32m   (...)\u001b[0m\n\u001b[0;32m    203\u001b[0m     fontsize\u001b[38;5;241m=\u001b[39mfontsize,\n\u001b[0;32m    204\u001b[0m )\n\u001b[1;32m--> 205\u001b[0m \u001b[38;5;28;01mreturn\u001b[39;00m \u001b[43mexporter\u001b[49m\u001b[38;5;241;43m.\u001b[39;49m\u001b[43mexport\u001b[49m\u001b[43m(\u001b[49m\u001b[43mdecision_tree\u001b[49m\u001b[43m,\u001b[49m\u001b[43m \u001b[49m\u001b[43max\u001b[49m\u001b[38;5;241;43m=\u001b[39;49m\u001b[43max\u001b[49m\u001b[43m)\u001b[49m\n",
      "File \u001b[1;32m~\\AppData\\Local\\Programs\\Python\\Python313\\Lib\\site-packages\\sklearn\\tree\\_export.py:652\u001b[0m, in \u001b[0;36m_MPLTreeExporter.export\u001b[1;34m(self, decision_tree, ax)\u001b[0m\n\u001b[0;32m    650\u001b[0m ax\u001b[38;5;241m.\u001b[39mclear()\n\u001b[0;32m    651\u001b[0m ax\u001b[38;5;241m.\u001b[39mset_axis_off()\n\u001b[1;32m--> 652\u001b[0m my_tree \u001b[38;5;241m=\u001b[39m \u001b[38;5;28;43mself\u001b[39;49m\u001b[38;5;241;43m.\u001b[39;49m\u001b[43m_make_tree\u001b[49m\u001b[43m(\u001b[49m\u001b[38;5;241;43m0\u001b[39;49m\u001b[43m,\u001b[49m\u001b[43m \u001b[49m\u001b[43mdecision_tree\u001b[49m\u001b[38;5;241;43m.\u001b[39;49m\u001b[43mtree_\u001b[49m\u001b[43m,\u001b[49m\u001b[43m \u001b[49m\u001b[43mdecision_tree\u001b[49m\u001b[38;5;241;43m.\u001b[39;49m\u001b[43mcriterion\u001b[49m\u001b[43m)\u001b[49m\n\u001b[0;32m    653\u001b[0m draw_tree \u001b[38;5;241m=\u001b[39m buchheim(my_tree)\n\u001b[0;32m    655\u001b[0m \u001b[38;5;66;03m# important to make sure we're still\u001b[39;00m\n\u001b[0;32m    656\u001b[0m \u001b[38;5;66;03m# inside the axis after drawing the box\u001b[39;00m\n\u001b[0;32m    657\u001b[0m \u001b[38;5;66;03m# this makes sense because the width of a box\u001b[39;00m\n\u001b[0;32m    658\u001b[0m \u001b[38;5;66;03m# is about the same as the distance between boxes\u001b[39;00m\n",
      "File \u001b[1;32m~\\AppData\\Local\\Programs\\Python\\Python313\\Lib\\site-packages\\sklearn\\tree\\_export.py:633\u001b[0m, in \u001b[0;36m_MPLTreeExporter._make_tree\u001b[1;34m(self, node_id, et, criterion, depth)\u001b[0m\n\u001b[0;32m    628\u001b[0m name \u001b[38;5;241m=\u001b[39m \u001b[38;5;28mself\u001b[39m\u001b[38;5;241m.\u001b[39mnode_to_str(et, node_id, criterion\u001b[38;5;241m=\u001b[39mcriterion)\n\u001b[0;32m    629\u001b[0m \u001b[38;5;28;01mif\u001b[39;00m et\u001b[38;5;241m.\u001b[39mchildren_left[node_id] \u001b[38;5;241m!=\u001b[39m _tree\u001b[38;5;241m.\u001b[39mTREE_LEAF \u001b[38;5;129;01mand\u001b[39;00m (\n\u001b[0;32m    630\u001b[0m     \u001b[38;5;28mself\u001b[39m\u001b[38;5;241m.\u001b[39mmax_depth \u001b[38;5;129;01mis\u001b[39;00m \u001b[38;5;28;01mNone\u001b[39;00m \u001b[38;5;129;01mor\u001b[39;00m depth \u001b[38;5;241m<\u001b[39m\u001b[38;5;241m=\u001b[39m \u001b[38;5;28mself\u001b[39m\u001b[38;5;241m.\u001b[39mmax_depth\n\u001b[0;32m    631\u001b[0m ):\n\u001b[0;32m    632\u001b[0m     children \u001b[38;5;241m=\u001b[39m [\n\u001b[1;32m--> 633\u001b[0m         \u001b[38;5;28;43mself\u001b[39;49m\u001b[38;5;241;43m.\u001b[39;49m\u001b[43m_make_tree\u001b[49m\u001b[43m(\u001b[49m\n\u001b[0;32m    634\u001b[0m \u001b[43m            \u001b[49m\u001b[43met\u001b[49m\u001b[38;5;241;43m.\u001b[39;49m\u001b[43mchildren_left\u001b[49m\u001b[43m[\u001b[49m\u001b[43mnode_id\u001b[49m\u001b[43m]\u001b[49m\u001b[43m,\u001b[49m\u001b[43m \u001b[49m\u001b[43met\u001b[49m\u001b[43m,\u001b[49m\u001b[43m \u001b[49m\u001b[43mcriterion\u001b[49m\u001b[43m,\u001b[49m\u001b[43m \u001b[49m\u001b[43mdepth\u001b[49m\u001b[38;5;241;43m=\u001b[39;49m\u001b[43mdepth\u001b[49m\u001b[43m \u001b[49m\u001b[38;5;241;43m+\u001b[39;49m\u001b[43m \u001b[49m\u001b[38;5;241;43m1\u001b[39;49m\n\u001b[0;32m    635\u001b[0m \u001b[43m        \u001b[49m\u001b[43m)\u001b[49m,\n\u001b[0;32m    636\u001b[0m         \u001b[38;5;28mself\u001b[39m\u001b[38;5;241m.\u001b[39m_make_tree(\n\u001b[0;32m    637\u001b[0m             et\u001b[38;5;241m.\u001b[39mchildren_right[node_id], et, criterion, depth\u001b[38;5;241m=\u001b[39mdepth \u001b[38;5;241m+\u001b[39m \u001b[38;5;241m1\u001b[39m\n\u001b[0;32m    638\u001b[0m         ),\n\u001b[0;32m    639\u001b[0m     ]\n\u001b[0;32m    640\u001b[0m \u001b[38;5;28;01melse\u001b[39;00m:\n\u001b[0;32m    641\u001b[0m     \u001b[38;5;28;01mreturn\u001b[39;00m Tree(name, node_id)\n",
      "File \u001b[1;32m~\\AppData\\Local\\Programs\\Python\\Python313\\Lib\\site-packages\\sklearn\\tree\\_export.py:633\u001b[0m, in \u001b[0;36m_MPLTreeExporter._make_tree\u001b[1;34m(self, node_id, et, criterion, depth)\u001b[0m\n\u001b[0;32m    628\u001b[0m name \u001b[38;5;241m=\u001b[39m \u001b[38;5;28mself\u001b[39m\u001b[38;5;241m.\u001b[39mnode_to_str(et, node_id, criterion\u001b[38;5;241m=\u001b[39mcriterion)\n\u001b[0;32m    629\u001b[0m \u001b[38;5;28;01mif\u001b[39;00m et\u001b[38;5;241m.\u001b[39mchildren_left[node_id] \u001b[38;5;241m!=\u001b[39m _tree\u001b[38;5;241m.\u001b[39mTREE_LEAF \u001b[38;5;129;01mand\u001b[39;00m (\n\u001b[0;32m    630\u001b[0m     \u001b[38;5;28mself\u001b[39m\u001b[38;5;241m.\u001b[39mmax_depth \u001b[38;5;129;01mis\u001b[39;00m \u001b[38;5;28;01mNone\u001b[39;00m \u001b[38;5;129;01mor\u001b[39;00m depth \u001b[38;5;241m<\u001b[39m\u001b[38;5;241m=\u001b[39m \u001b[38;5;28mself\u001b[39m\u001b[38;5;241m.\u001b[39mmax_depth\n\u001b[0;32m    631\u001b[0m ):\n\u001b[0;32m    632\u001b[0m     children \u001b[38;5;241m=\u001b[39m [\n\u001b[1;32m--> 633\u001b[0m         \u001b[38;5;28;43mself\u001b[39;49m\u001b[38;5;241;43m.\u001b[39;49m\u001b[43m_make_tree\u001b[49m\u001b[43m(\u001b[49m\n\u001b[0;32m    634\u001b[0m \u001b[43m            \u001b[49m\u001b[43met\u001b[49m\u001b[38;5;241;43m.\u001b[39;49m\u001b[43mchildren_left\u001b[49m\u001b[43m[\u001b[49m\u001b[43mnode_id\u001b[49m\u001b[43m]\u001b[49m\u001b[43m,\u001b[49m\u001b[43m \u001b[49m\u001b[43met\u001b[49m\u001b[43m,\u001b[49m\u001b[43m \u001b[49m\u001b[43mcriterion\u001b[49m\u001b[43m,\u001b[49m\u001b[43m \u001b[49m\u001b[43mdepth\u001b[49m\u001b[38;5;241;43m=\u001b[39;49m\u001b[43mdepth\u001b[49m\u001b[43m \u001b[49m\u001b[38;5;241;43m+\u001b[39;49m\u001b[43m \u001b[49m\u001b[38;5;241;43m1\u001b[39;49m\n\u001b[0;32m    635\u001b[0m \u001b[43m        \u001b[49m\u001b[43m)\u001b[49m,\n\u001b[0;32m    636\u001b[0m         \u001b[38;5;28mself\u001b[39m\u001b[38;5;241m.\u001b[39m_make_tree(\n\u001b[0;32m    637\u001b[0m             et\u001b[38;5;241m.\u001b[39mchildren_right[node_id], et, criterion, depth\u001b[38;5;241m=\u001b[39mdepth \u001b[38;5;241m+\u001b[39m \u001b[38;5;241m1\u001b[39m\n\u001b[0;32m    638\u001b[0m         ),\n\u001b[0;32m    639\u001b[0m     ]\n\u001b[0;32m    640\u001b[0m \u001b[38;5;28;01melse\u001b[39;00m:\n\u001b[0;32m    641\u001b[0m     \u001b[38;5;28;01mreturn\u001b[39;00m Tree(name, node_id)\n",
      "File \u001b[1;32m~\\AppData\\Local\\Programs\\Python\\Python313\\Lib\\site-packages\\sklearn\\tree\\_export.py:636\u001b[0m, in \u001b[0;36m_MPLTreeExporter._make_tree\u001b[1;34m(self, node_id, et, criterion, depth)\u001b[0m\n\u001b[0;32m    628\u001b[0m name \u001b[38;5;241m=\u001b[39m \u001b[38;5;28mself\u001b[39m\u001b[38;5;241m.\u001b[39mnode_to_str(et, node_id, criterion\u001b[38;5;241m=\u001b[39mcriterion)\n\u001b[0;32m    629\u001b[0m \u001b[38;5;28;01mif\u001b[39;00m et\u001b[38;5;241m.\u001b[39mchildren_left[node_id] \u001b[38;5;241m!=\u001b[39m _tree\u001b[38;5;241m.\u001b[39mTREE_LEAF \u001b[38;5;129;01mand\u001b[39;00m (\n\u001b[0;32m    630\u001b[0m     \u001b[38;5;28mself\u001b[39m\u001b[38;5;241m.\u001b[39mmax_depth \u001b[38;5;129;01mis\u001b[39;00m \u001b[38;5;28;01mNone\u001b[39;00m \u001b[38;5;129;01mor\u001b[39;00m depth \u001b[38;5;241m<\u001b[39m\u001b[38;5;241m=\u001b[39m \u001b[38;5;28mself\u001b[39m\u001b[38;5;241m.\u001b[39mmax_depth\n\u001b[0;32m    631\u001b[0m ):\n\u001b[0;32m    632\u001b[0m     children \u001b[38;5;241m=\u001b[39m [\n\u001b[0;32m    633\u001b[0m         \u001b[38;5;28mself\u001b[39m\u001b[38;5;241m.\u001b[39m_make_tree(\n\u001b[0;32m    634\u001b[0m             et\u001b[38;5;241m.\u001b[39mchildren_left[node_id], et, criterion, depth\u001b[38;5;241m=\u001b[39mdepth \u001b[38;5;241m+\u001b[39m \u001b[38;5;241m1\u001b[39m\n\u001b[0;32m    635\u001b[0m         ),\n\u001b[1;32m--> 636\u001b[0m         \u001b[38;5;28;43mself\u001b[39;49m\u001b[38;5;241;43m.\u001b[39;49m\u001b[43m_make_tree\u001b[49m\u001b[43m(\u001b[49m\n\u001b[0;32m    637\u001b[0m \u001b[43m            \u001b[49m\u001b[43met\u001b[49m\u001b[38;5;241;43m.\u001b[39;49m\u001b[43mchildren_right\u001b[49m\u001b[43m[\u001b[49m\u001b[43mnode_id\u001b[49m\u001b[43m]\u001b[49m\u001b[43m,\u001b[49m\u001b[43m \u001b[49m\u001b[43met\u001b[49m\u001b[43m,\u001b[49m\u001b[43m \u001b[49m\u001b[43mcriterion\u001b[49m\u001b[43m,\u001b[49m\u001b[43m \u001b[49m\u001b[43mdepth\u001b[49m\u001b[38;5;241;43m=\u001b[39;49m\u001b[43mdepth\u001b[49m\u001b[43m \u001b[49m\u001b[38;5;241;43m+\u001b[39;49m\u001b[43m \u001b[49m\u001b[38;5;241;43m1\u001b[39;49m\n\u001b[0;32m    638\u001b[0m \u001b[43m        \u001b[49m\u001b[43m)\u001b[49m,\n\u001b[0;32m    639\u001b[0m     ]\n\u001b[0;32m    640\u001b[0m \u001b[38;5;28;01melse\u001b[39;00m:\n\u001b[0;32m    641\u001b[0m     \u001b[38;5;28;01mreturn\u001b[39;00m Tree(name, node_id)\n",
      "File \u001b[1;32m~\\AppData\\Local\\Programs\\Python\\Python313\\Lib\\site-packages\\sklearn\\tree\\_export.py:636\u001b[0m, in \u001b[0;36m_MPLTreeExporter._make_tree\u001b[1;34m(self, node_id, et, criterion, depth)\u001b[0m\n\u001b[0;32m    628\u001b[0m name \u001b[38;5;241m=\u001b[39m \u001b[38;5;28mself\u001b[39m\u001b[38;5;241m.\u001b[39mnode_to_str(et, node_id, criterion\u001b[38;5;241m=\u001b[39mcriterion)\n\u001b[0;32m    629\u001b[0m \u001b[38;5;28;01mif\u001b[39;00m et\u001b[38;5;241m.\u001b[39mchildren_left[node_id] \u001b[38;5;241m!=\u001b[39m _tree\u001b[38;5;241m.\u001b[39mTREE_LEAF \u001b[38;5;129;01mand\u001b[39;00m (\n\u001b[0;32m    630\u001b[0m     \u001b[38;5;28mself\u001b[39m\u001b[38;5;241m.\u001b[39mmax_depth \u001b[38;5;129;01mis\u001b[39;00m \u001b[38;5;28;01mNone\u001b[39;00m \u001b[38;5;129;01mor\u001b[39;00m depth \u001b[38;5;241m<\u001b[39m\u001b[38;5;241m=\u001b[39m \u001b[38;5;28mself\u001b[39m\u001b[38;5;241m.\u001b[39mmax_depth\n\u001b[0;32m    631\u001b[0m ):\n\u001b[0;32m    632\u001b[0m     children \u001b[38;5;241m=\u001b[39m [\n\u001b[0;32m    633\u001b[0m         \u001b[38;5;28mself\u001b[39m\u001b[38;5;241m.\u001b[39m_make_tree(\n\u001b[0;32m    634\u001b[0m             et\u001b[38;5;241m.\u001b[39mchildren_left[node_id], et, criterion, depth\u001b[38;5;241m=\u001b[39mdepth \u001b[38;5;241m+\u001b[39m \u001b[38;5;241m1\u001b[39m\n\u001b[0;32m    635\u001b[0m         ),\n\u001b[1;32m--> 636\u001b[0m         \u001b[38;5;28;43mself\u001b[39;49m\u001b[38;5;241;43m.\u001b[39;49m\u001b[43m_make_tree\u001b[49m\u001b[43m(\u001b[49m\n\u001b[0;32m    637\u001b[0m \u001b[43m            \u001b[49m\u001b[43met\u001b[49m\u001b[38;5;241;43m.\u001b[39;49m\u001b[43mchildren_right\u001b[49m\u001b[43m[\u001b[49m\u001b[43mnode_id\u001b[49m\u001b[43m]\u001b[49m\u001b[43m,\u001b[49m\u001b[43m \u001b[49m\u001b[43met\u001b[49m\u001b[43m,\u001b[49m\u001b[43m \u001b[49m\u001b[43mcriterion\u001b[49m\u001b[43m,\u001b[49m\u001b[43m \u001b[49m\u001b[43mdepth\u001b[49m\u001b[38;5;241;43m=\u001b[39;49m\u001b[43mdepth\u001b[49m\u001b[43m \u001b[49m\u001b[38;5;241;43m+\u001b[39;49m\u001b[43m \u001b[49m\u001b[38;5;241;43m1\u001b[39;49m\n\u001b[0;32m    638\u001b[0m \u001b[43m        \u001b[49m\u001b[43m)\u001b[49m,\n\u001b[0;32m    639\u001b[0m     ]\n\u001b[0;32m    640\u001b[0m \u001b[38;5;28;01melse\u001b[39;00m:\n\u001b[0;32m    641\u001b[0m     \u001b[38;5;28;01mreturn\u001b[39;00m Tree(name, node_id)\n",
      "    \u001b[1;31m[... skipping similar frames: _MPLTreeExporter._make_tree at line 636 (2 times)]\u001b[0m\n",
      "File \u001b[1;32m~\\AppData\\Local\\Programs\\Python\\Python313\\Lib\\site-packages\\sklearn\\tree\\_export.py:636\u001b[0m, in \u001b[0;36m_MPLTreeExporter._make_tree\u001b[1;34m(self, node_id, et, criterion, depth)\u001b[0m\n\u001b[0;32m    628\u001b[0m name \u001b[38;5;241m=\u001b[39m \u001b[38;5;28mself\u001b[39m\u001b[38;5;241m.\u001b[39mnode_to_str(et, node_id, criterion\u001b[38;5;241m=\u001b[39mcriterion)\n\u001b[0;32m    629\u001b[0m \u001b[38;5;28;01mif\u001b[39;00m et\u001b[38;5;241m.\u001b[39mchildren_left[node_id] \u001b[38;5;241m!=\u001b[39m _tree\u001b[38;5;241m.\u001b[39mTREE_LEAF \u001b[38;5;129;01mand\u001b[39;00m (\n\u001b[0;32m    630\u001b[0m     \u001b[38;5;28mself\u001b[39m\u001b[38;5;241m.\u001b[39mmax_depth \u001b[38;5;129;01mis\u001b[39;00m \u001b[38;5;28;01mNone\u001b[39;00m \u001b[38;5;129;01mor\u001b[39;00m depth \u001b[38;5;241m<\u001b[39m\u001b[38;5;241m=\u001b[39m \u001b[38;5;28mself\u001b[39m\u001b[38;5;241m.\u001b[39mmax_depth\n\u001b[0;32m    631\u001b[0m ):\n\u001b[0;32m    632\u001b[0m     children \u001b[38;5;241m=\u001b[39m [\n\u001b[0;32m    633\u001b[0m         \u001b[38;5;28mself\u001b[39m\u001b[38;5;241m.\u001b[39m_make_tree(\n\u001b[0;32m    634\u001b[0m             et\u001b[38;5;241m.\u001b[39mchildren_left[node_id], et, criterion, depth\u001b[38;5;241m=\u001b[39mdepth \u001b[38;5;241m+\u001b[39m \u001b[38;5;241m1\u001b[39m\n\u001b[0;32m    635\u001b[0m         ),\n\u001b[1;32m--> 636\u001b[0m         \u001b[38;5;28;43mself\u001b[39;49m\u001b[38;5;241;43m.\u001b[39;49m\u001b[43m_make_tree\u001b[49m\u001b[43m(\u001b[49m\n\u001b[0;32m    637\u001b[0m \u001b[43m            \u001b[49m\u001b[43met\u001b[49m\u001b[38;5;241;43m.\u001b[39;49m\u001b[43mchildren_right\u001b[49m\u001b[43m[\u001b[49m\u001b[43mnode_id\u001b[49m\u001b[43m]\u001b[49m\u001b[43m,\u001b[49m\u001b[43m \u001b[49m\u001b[43met\u001b[49m\u001b[43m,\u001b[49m\u001b[43m \u001b[49m\u001b[43mcriterion\u001b[49m\u001b[43m,\u001b[49m\u001b[43m \u001b[49m\u001b[43mdepth\u001b[49m\u001b[38;5;241;43m=\u001b[39;49m\u001b[43mdepth\u001b[49m\u001b[43m \u001b[49m\u001b[38;5;241;43m+\u001b[39;49m\u001b[43m \u001b[49m\u001b[38;5;241;43m1\u001b[39;49m\n\u001b[0;32m    638\u001b[0m \u001b[43m        \u001b[49m\u001b[43m)\u001b[49m,\n\u001b[0;32m    639\u001b[0m     ]\n\u001b[0;32m    640\u001b[0m \u001b[38;5;28;01melse\u001b[39;00m:\n\u001b[0;32m    641\u001b[0m     \u001b[38;5;28;01mreturn\u001b[39;00m Tree(name, node_id)\n",
      "File \u001b[1;32m~\\AppData\\Local\\Programs\\Python\\Python313\\Lib\\site-packages\\sklearn\\tree\\_export.py:628\u001b[0m, in \u001b[0;36m_MPLTreeExporter._make_tree\u001b[1;34m(self, node_id, et, criterion, depth)\u001b[0m\n\u001b[0;32m    625\u001b[0m \u001b[38;5;28;01mdef\u001b[39;00m\u001b[38;5;250m \u001b[39m\u001b[38;5;21m_make_tree\u001b[39m(\u001b[38;5;28mself\u001b[39m, node_id, et, criterion, depth\u001b[38;5;241m=\u001b[39m\u001b[38;5;241m0\u001b[39m):\n\u001b[0;32m    626\u001b[0m     \u001b[38;5;66;03m# traverses _tree.Tree recursively, builds intermediate\u001b[39;00m\n\u001b[0;32m    627\u001b[0m     \u001b[38;5;66;03m# \"_reingold_tilford.Tree\" object\u001b[39;00m\n\u001b[1;32m--> 628\u001b[0m     name \u001b[38;5;241m=\u001b[39m \u001b[38;5;28;43mself\u001b[39;49m\u001b[38;5;241;43m.\u001b[39;49m\u001b[43mnode_to_str\u001b[49m\u001b[43m(\u001b[49m\u001b[43met\u001b[49m\u001b[43m,\u001b[49m\u001b[43m \u001b[49m\u001b[43mnode_id\u001b[49m\u001b[43m,\u001b[49m\u001b[43m \u001b[49m\u001b[43mcriterion\u001b[49m\u001b[38;5;241;43m=\u001b[39;49m\u001b[43mcriterion\u001b[49m\u001b[43m)\u001b[49m\n\u001b[0;32m    629\u001b[0m     \u001b[38;5;28;01mif\u001b[39;00m et\u001b[38;5;241m.\u001b[39mchildren_left[node_id] \u001b[38;5;241m!=\u001b[39m _tree\u001b[38;5;241m.\u001b[39mTREE_LEAF \u001b[38;5;129;01mand\u001b[39;00m (\n\u001b[0;32m    630\u001b[0m         \u001b[38;5;28mself\u001b[39m\u001b[38;5;241m.\u001b[39mmax_depth \u001b[38;5;129;01mis\u001b[39;00m \u001b[38;5;28;01mNone\u001b[39;00m \u001b[38;5;129;01mor\u001b[39;00m depth \u001b[38;5;241m<\u001b[39m\u001b[38;5;241m=\u001b[39m \u001b[38;5;28mself\u001b[39m\u001b[38;5;241m.\u001b[39mmax_depth\n\u001b[0;32m    631\u001b[0m     ):\n\u001b[0;32m    632\u001b[0m         children \u001b[38;5;241m=\u001b[39m [\n\u001b[0;32m    633\u001b[0m             \u001b[38;5;28mself\u001b[39m\u001b[38;5;241m.\u001b[39m_make_tree(\n\u001b[0;32m    634\u001b[0m                 et\u001b[38;5;241m.\u001b[39mchildren_left[node_id], et, criterion, depth\u001b[38;5;241m=\u001b[39mdepth \u001b[38;5;241m+\u001b[39m \u001b[38;5;241m1\u001b[39m\n\u001b[1;32m   (...)\u001b[0m\n\u001b[0;32m    638\u001b[0m             ),\n\u001b[0;32m    639\u001b[0m         ]\n",
      "File \u001b[1;32m~\\AppData\\Local\\Programs\\Python\\Python313\\Lib\\site-packages\\sklearn\\tree\\_export.py:310\u001b[0m, in \u001b[0;36m_BaseTreeExporter.node_to_str\u001b[1;34m(self, tree, node_id, criterion)\u001b[0m\n\u001b[0;32m    307\u001b[0m \u001b[38;5;28;01mif\u001b[39;00m tree\u001b[38;5;241m.\u001b[39mchildren_left[node_id] \u001b[38;5;241m!=\u001b[39m _tree\u001b[38;5;241m.\u001b[39mTREE_LEAF:\n\u001b[0;32m    308\u001b[0m     \u001b[38;5;66;03m# Always write node decision criteria, except for leaves\u001b[39;00m\n\u001b[0;32m    309\u001b[0m     \u001b[38;5;28;01mif\u001b[39;00m \u001b[38;5;28mself\u001b[39m\u001b[38;5;241m.\u001b[39mfeature_names \u001b[38;5;129;01mis\u001b[39;00m \u001b[38;5;129;01mnot\u001b[39;00m \u001b[38;5;28;01mNone\u001b[39;00m:\n\u001b[1;32m--> 310\u001b[0m         feature \u001b[38;5;241m=\u001b[39m \u001b[38;5;28;43mself\u001b[39;49m\u001b[38;5;241;43m.\u001b[39;49m\u001b[43mfeature_names\u001b[49m\u001b[43m[\u001b[49m\u001b[43mtree\u001b[49m\u001b[38;5;241;43m.\u001b[39;49m\u001b[43mfeature\u001b[49m\u001b[43m[\u001b[49m\u001b[43mnode_id\u001b[49m\u001b[43m]\u001b[49m\u001b[43m]\u001b[49m\n\u001b[0;32m    311\u001b[0m         feature \u001b[38;5;241m=\u001b[39m \u001b[38;5;28mself\u001b[39m\u001b[38;5;241m.\u001b[39mstr_escape(feature)\n\u001b[0;32m    312\u001b[0m     \u001b[38;5;28;01melse\u001b[39;00m:\n",
      "\u001b[1;31mIndexError\u001b[0m: list index out of range"
     ]
    },
    {
     "data": {
      "image/png": "[encoded data removed]",
      "text/plain": [
       "<Figure size 1200x800 with 1 Axes>"
      ]
     },
     "metadata": {},
     "output_type": "display_data"
    }
   ],
   "source": [
    "#пока не сделано(!!!)обучим модель на random forest\n",
    "from sklearn import tree\n",
    "import matplotlib.pyplot as plt\n",
    "from sklearn.tree import DecisionTreeRegressor\n",
    "from sklearn.metrics import mean_squared_error\n",
    "clf = DecisionTreeRegressor(max_depth=10, min_samples_leaf=1, min_samples_split=2, criterion='squared_error')#это не рэндом форест\n",
    "clf.fit(X_train, y_train)\n",
    "# absolute_error', 'squared_error\n",
    "pred = clf.predict(X_test)\n",
    "# print(classification_report(y_test, pred))\n",
    "\n",
    "plt.figure(figsize=(12, 8))  # Настройте размер фигуры (ширина, высота)\n",
    "tree.plot_tree(clf,\n",
    "               filled=True,  # Заполнить узлы цветом\n",
    "               feature_names=['Ship Mode\tSales',\t'Quantity',\t'Discount',\t'Profit', 'Category_Furniture',\t'Category_Office Supplies',\t'Category_Technology',\t'Segment_Consumer',\t'Segment_Corporate','Segment_Home Office', 'Sub-Category_Accessories', 'Sub-Category_Appliances', 'Sub-Category_Art', 'Sub-Category_Binders', 'Sub-Category_Bookcases', 'Sub-Category_Chairs', 'Sub-Category_Copiers', 'Sub-Category_Envelopes', 'Sub-Category_Fasteners', 'Sub-Category_Furnishings', 'Sub-Category_Labels', 'Sub-Category_Machines', 'Sub-Category_Paper', 'Sub-Category_Phones', 'Sub-Category_Storage', 'Sub-Category_Supplies', 'Sub-Category_Tables', 'Region_Central', 'Region_East', 'Region_South', 'Region_West', 'Month_April', 'Month_August', 'Month_December', 'Month_February', 'Month_January', 'Month_June',\t'Month_March',\t'Month_May', 'Month_November',\t'Month_October',\t'Month_September',\t'Year_2014',\t'Year_2015',\t'Year_2016',\t'Year_2017'],  # Имена признаков\n",
    "               rounded=True, # Округлить углы\n",
    "               fontsize=10 #размер шрифта\n",
    "               ) #  Обратите внимание на отступы!\n",
    "\n",
    "plt.show() # Показать график"
   ]
  },
  {
   "cell_type": "code",
   "execution_count": 37,
   "id": "7aca2336-3968-4e5e-b4b9-a38a1fb4842a",
   "metadata": {
    "collapsed": true,
    "jupyter": {
     "outputs_hidden": true,
     "source_hidden": true
    }
   },
   "outputs": [
    {
     "ename": "NameError",
     "evalue": "name 'clf' is not defined",
     "output_type": "error",
     "traceback": [
      "\u001b[1;31m---------------------------------------------------------------------------\u001b[0m",
      "\u001b[1;31mNameError\u001b[0m                                 Traceback (most recent call last)",
      "Cell \u001b[1;32mIn[37], line 4\u001b[0m\n\u001b[0;32m      1\u001b[0m \u001b[38;5;28;01mfrom\u001b[39;00m\u001b[38;5;250m \u001b[39m\u001b[38;5;21;01msklearn\u001b[39;00m\u001b[38;5;21;01m.\u001b[39;00m\u001b[38;5;21;01mmetrics\u001b[39;00m\u001b[38;5;250m \u001b[39m\u001b[38;5;28;01mimport\u001b[39;00m mean_squared_error, mean_absolute_error, r2_score\n\u001b[0;32m      3\u001b[0m \u001b[38;5;66;03m# Сделайте прогнозы на тестовой выборке\u001b[39;00m\n\u001b[1;32m----> 4\u001b[0m y_pred \u001b[38;5;241m=\u001b[39m \u001b[43mclf\u001b[49m\u001b[38;5;241m.\u001b[39mpredict(X_test)\n\u001b[0;32m      6\u001b[0m \u001b[38;5;66;03m# Оцените модель\u001b[39;00m\n\u001b[0;32m      7\u001b[0m mse \u001b[38;5;241m=\u001b[39m mean_squared_error(y_test, y_pred)\n",
      "\u001b[1;31mNameError\u001b[0m: name 'clf' is not defined"
     ]
    }
   ],
   "source": [
    "from sklearn.metrics import mean_squared_error, mean_absolute_error, r2_score\n",
    "\n",
    "# Сделайте прогнозы на тестовой выборке\n",
    "y_pred = clf.predict(X_test)\n",
    "\n",
    "# Оцените модель\n",
    "mse = mean_squared_error(y_test, y_pred)\n",
    "mae = mean_absolute_error(y_test, y_pred)\n",
    "r2 = r2_score(y_test, y_pred)\n",
    "\n",
    "print(f\"Mean Squared Error: {mse}\")\n",
    "print(f\"Mean Absolute Error: {mae}\")\n",
    "print(f\"R-squared: {r2}\")"
   ]
  },
  {
   "cell_type": "code",
   "execution_count": 39,
   "id": "1e31fced-247b-4ac6-b595-5b50ca4dd816",
   "metadata": {},
   "outputs": [
    {
     "name": "stdout",
     "output_type": "stream",
     "text": [
      "Best parameters: {'max_depth': 10, 'min_samples_leaf': 1, 'min_samples_split': 10}\n",
      "Best R-squared: 0.5809292955931632\n",
      "MSE: 18314.860676719858\n",
      "R-squared on test set: 0.28093508485352137\n"
     ]
    }
   ],
   "source": [
    "from sklearn.tree import DecisionTreeRegressor\n",
    "from sklearn.model_selection import GridSearchCV\n",
    "\n",
    "#гиперпараметры\n",
    "# Определите сетку параметров для поиска\n",
    "param_grid = {\n",
    "    'max_depth': [5, 10, 15],\n",
    "    'min_samples_split': [2, 10, 20],\n",
    "    'min_samples_leaf': [1, 5]\n",
    "}\n",
    "\n",
    "# Создайте экземпляр GridSearchCV\n",
    "grid_search = GridSearchCV(DecisionTreeRegressor(), param_grid, cv=5, scoring='r2')\n",
    "\n",
    "# Запустите поиск\n",
    "grid_search.fit(X_train, y_train)\n",
    "\n",
    "# Выведите наилучшие параметры и наилучший результат\n",
    "print(\"Best parameters:\", grid_search.best_params_)\n",
    "print(\"Best R-squared:\", grid_search.best_score_)\n",
    "\n",
    "# Используйте наилучшую модель для предсказаний\n",
    "best_model = grid_search.best_estimator_\n",
    "y_pred = best_model.predict(X_test)\n",
    "r2 = r2_score(y_test, y_pred)\n",
    "mse = mean_squared_error(y_test, y_pred)\n",
    "print(f\"MSE: {mse}\")\n",
    "print(\"R-squared on test set:\", r2)"
   ]
  },
  {
   "cell_type": "code",
   "execution_count": 157,
   "id": "38c22e53-8f74-4ac4-840c-1c5564dd3990",
   "metadata": {},
   "outputs": [],
   "source": [
    "# 1. Разделите данные\n",
    "# X_train, X_test, y_train, y_test = train_test_split(X, y, test_size=0.2, random_state=42)"
   ]
  },
  {
   "cell_type": "code",
   "execution_count": 40,
   "id": "ecd5128b-564a-41d4-abaf-efcea8cd9352",
   "metadata": {
    "collapsed": true,
    "jupyter": {
     "outputs_hidden": true,
     "source_hidden": true
    }
   },
   "outputs": [
    {
     "name": "stdout",
     "output_type": "stream",
     "text": [
      "Лучшие гиперпараметры: {'depth': 6, 'iterations': 300, 'learning_rate': 0.05}\n",
      "Лучшее значение R^2: 0.839047893703296\n"
     ]
    }
   ],
   "source": [
    "# from sklearn.model_selection import KFold, GridSearchCV\n",
    "# import catboost as cb\n",
    "# from sklearn.datasets import make_regression\n",
    "\n",
    "\n",
    "# # 1. Определим модель\n",
    "# model = cb.CatBoostRegressor(random_state=42, learning_rate=0.01, depth=6, iterations=300, verbose=0)\n",
    "\n",
    "# # 2. Определим сетку гиперпараметров для поиска\n",
    "# param_grid = {\n",
    "#     'iterations': [100, 200, 300],\n",
    "#     'learning_rate': [0.01, 0.03, 0.05],\n",
    "#     'depth': [6, 8, 12]\n",
    "# }\n",
    "\n",
    "# # 3. Определим стратегию кросс-валидации\n",
    "# cv = KFold(n_splits=3, shuffle=True, random_state=42)\n",
    "\n",
    "# # 4. Создадим объект GridSearchCV\n",
    "# grid_search = GridSearchCV(estimator=model, param_grid=param_grid, scoring='r2', cv=cv, verbose=0)\n",
    "\n",
    "# # 5. Запустим поиск по сетке\n",
    "# grid_search.fit(X, y)\n",
    "\n",
    "# # 6. Выведите результаты\n",
    "# print(\"Лучшие гиперпараметры:\", grid_search.best_params_)\n",
    "# print(\"Лучшее значение R^2:\", grid_search.best_score_)\n",
    "\n",
    "# # 7. Получите лучшую модель\n",
    "# best_model = grid_search.best_estimator_"
   ]
  },
  {
   "cell_type": "code",
   "execution_count": 44,
   "id": "8444cc31-3fc4-4d97-86aa-7fc5078ce707",
   "metadata": {},
   "outputs": [
    {
     "name": "stdout",
     "output_type": "stream",
     "text": [
      "Mean Squared Error: 2956.8093\n",
      "Mean Absolute Error: 17.9175\n",
      "r2_score: 0.9067\n"
     ]
    }
   ],
   "source": [
    "from catboost import CatBoostRegressor, Pool\n",
    "from sklearn.model_selection import train_test_split\n",
    "from sklearn.metrics import mean_squared_error\n",
    "\n",
    "#CatBoostRegressor без преобразования данных\n",
    "X = df_filtered.drop('Profit', axis=1)\n",
    "y = df_filtered['Profit']\n",
    "\n",
    "# 3. Определение категориальных признаков\n",
    "# categorical_features_indices = np.where(X.dtypes != float)[0]  # Находим индексы не-числовых столбцов\n",
    "categorical_features_indices = [X.columns.get_loc(col) for col in X.columns if X[col].dtype == 'object'] # Более явный способ\n",
    "\n",
    "\n",
    "# 4. Разделение на обучающую и тестовую выборки\n",
    "X_train, X_test, y_train, y_test = train_test_split(X, y, test_size=0.2, random_state=42)\n",
    "\n",
    "# 5. Создание Pool-объектов (необязательно, но рекомендуется)\n",
    "train_pool = Pool(X_train, y_train, cat_features=categorical_features_indices)\n",
    "test_pool = Pool(X_test, y_test, cat_features=categorical_features_indices)\n",
    "\n",
    "# 6. Создание и обучение модели\n",
    "model = CatBoostRegressor(iterations=300,\n",
    "                            learning_rate=0.1,\n",
    "                            depth=6,\n",
    "                            loss_function='RMSE',\n",
    "                            eval_metric='RMSE',\n",
    "                            random_seed=42,\n",
    "                            verbose=False) # verbose=False чтобы не выводить много текста\n",
    "\n",
    "model.fit(train_pool, eval_set=test_pool, early_stopping_rounds=10) # early_stopping предотвратит переобучение\n",
    "\n",
    "# 7. Предсказание на тестовой выборке\n",
    "y_pred = model.predict(X_test)\n",
    "\n",
    "# 8. Оценка модели\n",
    "mse = mean_squared_error(y_test, y_pred)\n",
    "r2 = r2_score(y_test, y_pred)\n",
    "mae = mean_absolute_error(y_test, y_pred)\n",
    "print(f\"Mean Squared Error: {mse:.4f}\")\n",
    "print(f\"Mean Absolute Error: {mae:.4f}\")\n",
    "print(f\"r2_score: {r2:.4f}\")\n"
   ]
  },
  {
   "cell_type": "code",
   "execution_count": 45,
   "id": "2d2df4eb-36f0-422b-9ea6-22f2f6dc91f2",
   "metadata": {},
   "outputs": [
    {
     "data": {
      "text/plain": [
       "np.float64(25.172626517123973)"
      ]
     },
     "execution_count": 45,
     "metadata": {},
     "output_type": "execute_result"
    }
   ],
   "source": [
    "df['Profit'].mean()"
   ]
  },
  {
   "cell_type": "code",
   "execution_count": 46,
   "id": "0ea2c136-4107-42cd-82c6-3a154a452a58",
   "metadata": {},
   "outputs": [
    {
     "name": "stdout",
     "output_type": "stream",
     "text": [
      "                                                             200\n",
      "Row ID                                                       201\n",
      "Order ID                                          CA-2017-105074\n",
      "Order Date                                   2017-06-24 00:00:00\n",
      "Ship Date                                              6/29/2017\n",
      "Ship Mode                                         Standard Class\n",
      "Customer ID                                             MB-17305\n",
      "Customer Name                                    Maria Bertelson\n",
      "Segment                                                 Consumer\n",
      "Country                                            United States\n",
      "City                                                       Akron\n",
      "State                                                       Ohio\n",
      "Postal Code                                                44312\n",
      "Region                                                      East\n",
      "Product ID                                       OFF-PA-10002666\n",
      "Category                                         Office Supplies\n",
      "Sub-Category                                               Paper\n",
      "Product Name   Southworth 25% Cotton Linen-Finish Paper & Env...\n",
      "Sales                                                      21.74\n",
      "Quantity                                                       3\n",
      "Discount                                                     0.2\n",
      "Profit                                                      6.79\n",
      "Month                                                       June\n",
      "Year                                                        2017\n"
     ]
    }
   ],
   "source": [
    "#сделаем проверку на примере конкретных данных из датасета\n",
    "print(df.loc[[200]].T)"
   ]
  },
  {
   "cell_type": "code",
   "execution_count": 47,
   "id": "3184e37e-7d73-4163-a3c0-ec39cd76199a",
   "metadata": {},
   "outputs": [],
   "source": [
    "data = {'Ship Mode': [4],\n",
    "        'Sales': [22],\n",
    "        'Quantity': [3],\n",
    "        'Discount': [0.2],\n",
    "        'Category_Furniture': [False],\n",
    "        'Category_Office Supplies': [True],\n",
    "        'Category_Technology': [False],\n",
    "        'Segment_Consumer': [True],\n",
    "        'Segment_Corporate': [False],\n",
    "        'Segment_Home Office': [False],\n",
    "        'Sub-Category_Accessories': [False],  \n",
    "        'Sub-Category_Appliances': [False],  \n",
    "        'Sub-Category_Art': [False],            \n",
    "        'Sub-Category_Binders': [False],      \n",
    "        'Sub-Category_Bookcases': [False],   \n",
    "        'Sub-Category_Chairs': [False],       \n",
    "        'Sub-Category_Copiers': [False],      \n",
    "        'Sub-Category_Envelopes': [False],      \n",
    "        'Sub-Category_Fasteners': [False],      \n",
    "        'Sub-Category_Furnishings': [True],  \n",
    "        'Sub-Category_Labels': [False],       \n",
    "        'Sub-Category_Machines': [False],     \n",
    "        'Sub-Category_Paper': [False],        \n",
    "        'Sub-Category_Phones': [False],          \n",
    "        'Sub-Category_Storage': [False],     \n",
    "        'Sub-Category_Supplies': [False],\n",
    "        'Sub-Category_Tables': [False],\n",
    "        'Region_Central': [False],\n",
    "        'Region_East': [True],                 \n",
    "        'Region_South': [False],               \n",
    "        'Region_West': [False],                 \n",
    "        'Month_April': [False],                  \n",
    "        'Month_August': [False],                 \n",
    "        'Month_December': [False],               \n",
    "        'Month_February': [False],            \n",
    "        'Month_January': [False],        \n",
    "        'Month_July': [False],                  \n",
    "        'Month_June': [True],                   \n",
    "        'Month_March': [False],                 \n",
    "        'Month_May': [False],               \n",
    "        'Month_November': [False],              \n",
    "        'Month_October': [False],               \n",
    "        'Month_September': [False],        \n",
    "        'Year_2014': [False],\n",
    "        'Year_2015': [False],\n",
    "        'Year_2016': [False],\n",
    "        'Year_2017': [True]\n",
    "       }\n",
    "\n",
    "# Создаем DataFrame из словаря\n",
    "data = pd.DataFrame(data)"
   ]
  },
  {
   "cell_type": "code",
   "execution_count": 48,
   "id": "69338c2d-fde9-41f3-83e2-3abb9f438790",
   "metadata": {},
   "outputs": [
    {
     "name": "stdout",
     "output_type": "stream",
     "text": [
      "[2.43738973]\n"
     ]
    }
   ],
   "source": [
    "y_predict = model.predict(data)\n",
    "print(y_predict)"
   ]
  }
 ],
 "metadata": {
  "kernelspec": {
   "display_name": "Python 3 (ipykernel)",
   "language": "python",
   "name": "python3"
  },
  "language_info": {
   "codemirror_mode": {
    "name": "ipython",
    "version": 3
   },
   "file_extension": ".py",
   "mimetype": "text/x-python",
   "name": "python",
   "nbconvert_exporter": "python",
   "pygments_lexer": "ipython3",
   "version": "3.13.1"
  }
 },
 "nbformat": 4,
 "nbformat_minor": 5
}
