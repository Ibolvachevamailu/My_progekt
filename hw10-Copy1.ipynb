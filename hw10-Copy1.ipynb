{
 "cells": [
  {
   "cell_type": "code",
   "execution_count": 19,
   "id": "0635efb2-caf6-4274-a8cd-67a841f45ea8",
   "metadata": {},
   "outputs": [],
   "source": [
    "import os\n",
    "import pandas as pd\n",
    "import numpy as np\n",
    "import seaborn as sns\n",
    "import matplotlib.pyplot as plt\n",
    "from sklearn.ensemble import RandomForestRegressor\n",
    "from sklearn.metrics import r2_score, accuracy_score\n",
    "\n",
    "\n",
    "import warnings\n",
    "warnings.filterwarnings(\"ignore\")\n",
    "\n",
    "np.random.seed(10)\n",
    "pd.set_option('display.precision', 2)"
   ]
  },
  {
   "cell_type": "code",
   "execution_count": 20,
   "id": "8cae5f9c-df37-4891-acc8-01ed2946efea",
   "metadata": {},
   "outputs": [],
   "source": [
    "df = pd.read_csv('C:/Users/Инна/Desktop/otus/AB_NYC_2019.csv')"
   ]
  },
  {
   "cell_type": "code",
   "execution_count": 21,
   "id": "cb56b099-7b52-413d-b4fc-37e5b29d0080",
   "metadata": {},
   "outputs": [
    {
     "name": "stdout",
     "output_type": "stream",
     "text": [
      "\n",
      "Удалены столбцы:\n",
      "['id', 'name', 'host_id', 'host_name', 'last_review', 'availability_365']\n",
      "\n",
      "\n",
      "Оставшиеся столбцы:\n",
      "['neighbourhood_group', 'neighbourhood', 'latitude', 'longitude', 'room_type', 'price', 'minimum_nights', 'number_of_reviews', 'reviews_per_month', 'calculated_host_listings_count']\n",
      "\n"
     ]
    }
   ],
   "source": [
    "#удалим ненужные данные\n",
    "\n",
    "# Список столбцов для удаления (добавьте все нужные)\n",
    "columns_to_drop = [col for col in df.columns \n",
    "                  if 'ID' in col\n",
    "                   or 'Name' in col\n",
    "                   or 'id' in col\n",
    "                   or 'name' in col\n",
    "                   or 'last_review' in col\n",
    "                   or 'availability_365' in col\n",
    "                  ]\n",
    "\n",
    "# Удаляем выбранные столбцы\n",
    "df_filtered = df.drop(columns=columns_to_drop)\n",
    "\n",
    "print(f'''\n",
    "Удалены столбцы:\n",
    "{columns_to_drop}\n",
    "''')\n",
    "print(f'''\n",
    "Оставшиеся столбцы:\n",
    "{df_filtered.columns.tolist()}\n",
    "''')"
   ]
  },
  {
   "cell_type": "code",
   "execution_count": 51,
   "id": "ab8d3ecb-f59e-47fc-a4b9-c5d44b44d5fa",
   "metadata": {},
   "outputs": [
    {
     "name": "stdout",
     "output_type": "stream",
     "text": [
      "       latitude  longitude  distance_to_center\n",
      "13900      -0.5       0.56            9.04e+06\n",
      "31730      -0.5      -0.29            8.97e+06\n"
     ]
    }
   ],
   "source": [
    "import math\n",
    "\n",
    "def euclidean_distance(lat1, lon1, lat2, lon2):\n",
    "    # Перевод градусов в метры (приближенно)\n",
    "    dx = (lon2 - lon1) * 111320 * math.cos(math.radians((lat1 + lat2) / 2))\n",
    "    dy = (lat2 - lat1) * 111320\n",
    "    return math.sqrt(dx**2 + dy**2)\n",
    "\n",
    "# Координаты центра (например, Times Square)\n",
    "center_lat = 40.7580\n",
    "center_lon = -73.9855\n",
    "\n",
    "# Добавляем колонку 'distance_to_center' в метрах\n",
    "df_filtered['distance_to_center'] = df_filtered.apply(\n",
    "    lambda row: euclidean_distance(\n",
    "        row['latitude'], \n",
    "        row['longitude'], \n",
    "        center_lat, \n",
    "        center_lon\n",
    "    ), \n",
    "    axis=1\n",
    ")\n",
    "\n",
    "# Проверим результат\n",
    "print(df_filtered[['latitude', 'longitude', 'distance_to_center']].sample(2))"
   ]
  },
  {
   "cell_type": "code",
   "execution_count": 52,
   "id": "f6c62080-e54c-4c81-9928-fe5ba9688869",
   "metadata": {},
   "outputs": [
    {
     "name": "stdout",
     "output_type": "stream",
     "text": [
      "neighbourhood_group               0\n",
      "neighbourhood                     0\n",
      "latitude                          0\n",
      "longitude                         0\n",
      "room_type                         0\n",
      "price                             0\n",
      "minimum_nights                    0\n",
      "number_of_reviews                 0\n",
      "reviews_per_month                 0\n",
      "calculated_host_listings_count    0\n",
      "distance_to_center                0\n",
      "dtype: int64\n"
     ]
    }
   ],
   "source": [
    "# Заполняем пропущенные значения в last_review, reviews_per_month  значением 'Unknown'\n",
    "\n",
    "df_filtered['reviews_per_month'].fillna(0, inplace=True)\n",
    "\n",
    "# Проверяем, что больше нет пропущенных значений\n",
    "print(df_filtered.isnull().sum())\n"
   ]
  },
  {
   "cell_type": "code",
   "execution_count": 53,
   "id": "71e8c99d-9567-4a60-b75a-4ecea64d2c05",
   "metadata": {},
   "outputs": [],
   "source": [
    "#исключим аномалии\n",
    "\n",
    "def remove_outliers(df_filtered, column):\n",
    "    Q1 = df_filtered[column].quantile(0.25)\n",
    "    Q3 = df_filtered[column].quantile(0.75)\n",
    "    IQR = Q3 - Q1\n",
    "    return df_filtered[(df_filtered[column] >= (Q1 - 1.5 * IQR)) & (df[column] <= (Q3 + 1.5 * IQR))]\n",
    "\n",
    "df_filtered = remove_outliers(df_filtered, 'price')"
   ]
  },
  {
   "cell_type": "code",
   "execution_count": 54,
   "id": "d265f0b4-1ebf-4ac6-a5b9-db60685172b8",
   "metadata": {},
   "outputs": [],
   "source": [
    "from sklearn.model_selection import train_test_split\n",
    "from sklearn.metrics import mean_squared_error, r2_score\n",
    "import matplotlib.pyplot as plt"
   ]
  },
  {
   "cell_type": "code",
   "execution_count": null,
   "id": "72669a40-229e-4cc2-9f68-c4cef83b03d9",
   "metadata": {
    "jupyter": {
     "source_hidden": true
    }
   },
   "outputs": [],
   "source": [
    "categorical_features_indices_2 = [\n",
    "    X.columns.get_loc(col) \n",
    "    for col in X.columns \n",
    "    if X[col].dtype == 'object' and col != 'room_type'\n",
    "]\n",
    "categorical_features_indices_2\n",
    "df_filtered.columns[categorical_features_indices_2]\n"
   ]
  },
  {
   "cell_type": "code",
   "execution_count": null,
   "id": "d0a357f3-4073-427b-8f2f-5010f28b8c9c",
   "metadata": {
    "jupyter": {
     "source_hidden": true
    }
   },
   "outputs": [],
   "source": [
    "#преобразуем категориальные признаки (кроме room_type т.к. там необходимо устнаовить класс доставки по возрастанию - от низкого до высокого)\n",
    "#сделать это до разделения на трейн и тест(!!!!!!!)\n",
    "# df_filtered = pd.get_dummies(df_filtered, columns=['neighbourhood_group', 'neighbourhood'])\n",
    "# df_filtered.head(3)"
   ]
  },
  {
   "cell_type": "code",
   "execution_count": 7,
   "id": "ddd5d513-97f5-4b71-a7fd-f98f48cbdcd7",
   "metadata": {},
   "outputs": [
    {
     "name": "stdout",
     "output_type": "stream",
     "text": [
      "  neighbourhood_group neighbourhood  latitude  longitude  room_type  price  \\\n",
      "0            Brooklyn    Kensington     40.65     -73.97          1    149   \n",
      "1           Manhattan       Midtown     40.75     -73.98          0    225   \n",
      "2           Manhattan        Harlem     40.81     -73.94          1    150   \n",
      "3            Brooklyn  Clinton Hill     40.69     -73.96          0     89   \n",
      "4           Manhattan   East Harlem     40.80     -73.94          0     80   \n",
      "\n",
      "   minimum_nights  number_of_reviews  reviews_per_month  \\\n",
      "0               1                  9               0.21   \n",
      "1               1                 45               0.38   \n",
      "2               3                  0               0.00   \n",
      "3               1                270               4.64   \n",
      "4              10                  9               0.10   \n",
      "\n",
      "   calculated_host_listings_count  distance_to_center  \n",
      "0                               6            12351.78  \n",
      "1                               2              508.94  \n",
      "2                               1             6764.84  \n",
      "3                               1             8396.47  \n",
      "4                               1             5707.91  \n"
     ]
    }
   ],
   "source": [
    "#преобразование категориальной переменной room\n",
    "\n",
    "# import pandas as pd\n",
    "# from sklearn.preprocessing import LabelEncoder\n",
    "\n",
    "# # Выбор категориальных столбцов\n",
    "# categorical_columns = ['room_type']\n",
    "\n",
    "# # Создание и применение LabelEncoder\n",
    "# label_encoders = {}\n",
    "# for col in categorical_columns:\n",
    "#     le = LabelEncoder()\n",
    "#     df_filtered[col] = le.fit_transform(df_filtered[col])\n",
    "#     label_encoders[col] = le  # Сохраняем кодировщики (опционально)\n",
    "\n",
    "# # Просмотр первых строк преобразованного датафрейма\n",
    "# print(df_filtered.head())"
   ]
  },
  {
   "cell_type": "code",
   "execution_count": 8,
   "id": "e2250494-6c43-4bff-ae00-f2c85e225d69",
   "metadata": {},
   "outputs": [],
   "source": [
    "# df_filtered = pd.get_dummies(df_filtered, columns=['neighbourhood_group', 'neighbourhood'])"
   ]
  },
  {
   "cell_type": "code",
   "execution_count": 9,
   "id": "b9c253d3-1c8d-4c9f-a1cd-8453e3aa426e",
   "metadata": {},
   "outputs": [],
   "source": [
    "# df_filtered['room_type'].unique()"
   ]
  },
  {
   "cell_type": "code",
   "execution_count": 27,
   "id": "811df605-0fe9-461e-875d-f79c456d6ba3",
   "metadata": {},
   "outputs": [
    {
     "data": {
      "text/html": [
       "<div>\n",
       "<style scoped>\n",
       "    .dataframe tbody tr th:only-of-type {\n",
       "        vertical-align: middle;\n",
       "    }\n",
       "\n",
       "    .dataframe tbody tr th {\n",
       "        vertical-align: top;\n",
       "    }\n",
       "\n",
       "    .dataframe thead th {\n",
       "        text-align: right;\n",
       "    }\n",
       "</style>\n",
       "<table border=\"1\" class=\"dataframe\">\n",
       "  <thead>\n",
       "    <tr style=\"text-align: right;\">\n",
       "      <th></th>\n",
       "      <th>neighbourhood_group</th>\n",
       "      <th>neighbourhood</th>\n",
       "      <th>latitude</th>\n",
       "      <th>longitude</th>\n",
       "      <th>room_type</th>\n",
       "      <th>price</th>\n",
       "      <th>minimum_nights</th>\n",
       "      <th>number_of_reviews</th>\n",
       "      <th>reviews_per_month</th>\n",
       "      <th>calculated_host_listings_count</th>\n",
       "      <th>distance_to_center</th>\n",
       "    </tr>\n",
       "  </thead>\n",
       "  <tbody>\n",
       "    <tr>\n",
       "      <th>0</th>\n",
       "      <td>Brooklyn</td>\n",
       "      <td>Kensington</td>\n",
       "      <td>40.65</td>\n",
       "      <td>-73.97</td>\n",
       "      <td>Private room</td>\n",
       "      <td>149</td>\n",
       "      <td>1</td>\n",
       "      <td>9</td>\n",
       "      <td>0.21</td>\n",
       "      <td>6</td>\n",
       "      <td>12351.78</td>\n",
       "    </tr>\n",
       "    <tr>\n",
       "      <th>1</th>\n",
       "      <td>Manhattan</td>\n",
       "      <td>Midtown</td>\n",
       "      <td>40.75</td>\n",
       "      <td>-73.98</td>\n",
       "      <td>Entire home/apt</td>\n",
       "      <td>225</td>\n",
       "      <td>1</td>\n",
       "      <td>45</td>\n",
       "      <td>0.38</td>\n",
       "      <td>2</td>\n",
       "      <td>508.94</td>\n",
       "    </tr>\n",
       "    <tr>\n",
       "      <th>2</th>\n",
       "      <td>Manhattan</td>\n",
       "      <td>Harlem</td>\n",
       "      <td>40.81</td>\n",
       "      <td>-73.94</td>\n",
       "      <td>Private room</td>\n",
       "      <td>150</td>\n",
       "      <td>3</td>\n",
       "      <td>0</td>\n",
       "      <td>0.00</td>\n",
       "      <td>1</td>\n",
       "      <td>6764.84</td>\n",
       "    </tr>\n",
       "  </tbody>\n",
       "</table>\n",
       "</div>"
      ],
      "text/plain": [
       "  neighbourhood_group neighbourhood  latitude  longitude        room_type  \\\n",
       "0            Brooklyn    Kensington     40.65     -73.97     Private room   \n",
       "1           Manhattan       Midtown     40.75     -73.98  Entire home/apt   \n",
       "2           Manhattan        Harlem     40.81     -73.94     Private room   \n",
       "\n",
       "   price  minimum_nights  number_of_reviews  reviews_per_month  \\\n",
       "0    149               1                  9               0.21   \n",
       "1    225               1                 45               0.38   \n",
       "2    150               3                  0               0.00   \n",
       "\n",
       "   calculated_host_listings_count  distance_to_center  \n",
       "0                               6            12351.78  \n",
       "1                               2              508.94  \n",
       "2                               1             6764.84  "
      ]
     },
     "execution_count": 27,
     "metadata": {},
     "output_type": "execute_result"
    }
   ],
   "source": [
    "# ship_mode_mapping = {'Entire home/apt': 1, 'Private room': int(2), 'Shared room': 3}\n",
    "# df_filtered['room_type'] = df_filtered['room_type'].map(ship_mode_mapping)\n",
    "df_filtered.head(3)"
   ]
  },
  {
   "cell_type": "code",
   "execution_count": 28,
   "id": "6111215e-50c7-47bd-846e-3d07f179b716",
   "metadata": {},
   "outputs": [],
   "source": [
    "X = df_filtered.drop('price', axis=1)\n",
    "y = df_filtered['price']"
   ]
  },
  {
   "cell_type": "code",
   "execution_count": 29,
   "id": "f0fc2221-a1b6-4c32-b352-50290da21285",
   "metadata": {},
   "outputs": [],
   "source": [
    "# Разделение данных на обучающую и тестовую выборки\n",
    "X_train, X_test, y_train, y_test = train_test_split(X, y, test_size=0.3, random_state=42)"
   ]
  },
  {
   "cell_type": "code",
   "execution_count": 44,
   "id": "db6df73b-b3de-4175-8c7f-d75469f95711",
   "metadata": {},
   "outputs": [
    {
     "name": "stdout",
     "output_type": "stream",
     "text": [
      "MSE: 0.2343\n",
      "r2: 0.5529\n"
     ]
    }
   ],
   "source": [
    "from xgboost import XGBRegressor\n",
    "from sklearn.metrics import mean_squared_error\n",
    "\n",
    "\n",
    "# Создание модели\n",
    "model = XGBRegressor(\n",
    "    enable_categorical=True,\n",
    "    n_estimators=100,  # Количество деревьев\n",
    "    max_depth=7,       # Глубина деревьев\n",
    "    learning_rate=0.1, # Скорость обучения\n",
    "    random_state=42,\n",
    "    subsample=0.8\n",
    ")\n",
    "\n",
    "# Обучение\n",
    "model.fit(X_train, y_train)\n",
    "\n",
    "# Предсказание\n",
    "y_pred = model.predict(X_test)\n",
    "\n",
    "# Оценка качества\n",
    "mse = mean_squared_error(y_test, y_pred)\n",
    "print(f\"MSE: {mse:.4f}\")\n",
    "# rmse = mean_squared_error(y_test, y_pred, squared=False)\n",
    "# print(\"RMSE (sklearn):\", rmse)\n",
    "r2 = r2_score(y_test, y_pred)\n",
    "print(f\"r2: {r2:.4f}\")"
   ]
  },
  {
   "cell_type": "code",
   "execution_count": 45,
   "id": "0182acbb-5814-4d5b-bbbd-2abf4f39c241",
   "metadata": {},
   "outputs": [
    {
     "data": {
      "text/html": [
       "<div>\n",
       "<style scoped>\n",
       "    .dataframe tbody tr th:only-of-type {\n",
       "        vertical-align: middle;\n",
       "    }\n",
       "\n",
       "    .dataframe tbody tr th {\n",
       "        vertical-align: top;\n",
       "    }\n",
       "\n",
       "    .dataframe thead th {\n",
       "        text-align: right;\n",
       "    }\n",
       "</style>\n",
       "<table border=\"1\" class=\"dataframe\">\n",
       "  <thead>\n",
       "    <tr style=\"text-align: right;\">\n",
       "      <th></th>\n",
       "      <th>neighbourhood_group</th>\n",
       "      <th>neighbourhood</th>\n",
       "      <th>latitude</th>\n",
       "      <th>longitude</th>\n",
       "      <th>room_type</th>\n",
       "      <th>price</th>\n",
       "      <th>minimum_nights</th>\n",
       "      <th>number_of_reviews</th>\n",
       "      <th>reviews_per_month</th>\n",
       "      <th>calculated_host_listings_count</th>\n",
       "      <th>distance_to_center</th>\n",
       "    </tr>\n",
       "  </thead>\n",
       "  <tbody>\n",
       "    <tr>\n",
       "      <th>30232</th>\n",
       "      <td>Queens</td>\n",
       "      <td>Sunnyside</td>\n",
       "      <td>0.15</td>\n",
       "      <td>0.76</td>\n",
       "      <td>Shared room</td>\n",
       "      <td>-0.74</td>\n",
       "      <td>-0.25</td>\n",
       "      <td>1.35</td>\n",
       "      <td>1.22</td>\n",
       "      <td>2.0</td>\n",
       "      <td>-0.07</td>\n",
       "    </tr>\n",
       "    <tr>\n",
       "      <th>33843</th>\n",
       "      <td>Manhattan</td>\n",
       "      <td>Nolita</td>\n",
       "      <td>0.01</td>\n",
       "      <td>-0.83</td>\n",
       "      <td>Private room</td>\n",
       "      <td>-0.17</td>\n",
       "      <td>-0.25</td>\n",
       "      <td>-0.22</td>\n",
       "      <td>-0.24</td>\n",
       "      <td>7.0</td>\n",
       "      <td>-0.49</td>\n",
       "    </tr>\n",
       "    <tr>\n",
       "      <th>32215</th>\n",
       "      <td>Brooklyn</td>\n",
       "      <td>Flatbush</td>\n",
       "      <td>-0.96</td>\n",
       "      <td>-0.17</td>\n",
       "      <td>Private room</td>\n",
       "      <td>-0.05</td>\n",
       "      <td>-0.25</td>\n",
       "      <td>0.17</td>\n",
       "      <td>0.22</td>\n",
       "      <td>0.0</td>\n",
       "      <td>0.97</td>\n",
       "    </tr>\n",
       "  </tbody>\n",
       "</table>\n",
       "</div>"
      ],
      "text/plain": [
       "      neighbourhood_group neighbourhood  latitude  longitude     room_type  \\\n",
       "30232              Queens     Sunnyside      0.15       0.76   Shared room   \n",
       "33843           Manhattan        Nolita      0.01      -0.83  Private room   \n",
       "32215            Brooklyn      Flatbush     -0.96      -0.17  Private room   \n",
       "\n",
       "       price  minimum_nights  number_of_reviews  reviews_per_month  \\\n",
       "30232  -0.74           -0.25               1.35               1.22   \n",
       "33843  -0.17           -0.25              -0.22              -0.24   \n",
       "32215  -0.05           -0.25               0.17               0.22   \n",
       "\n",
       "       calculated_host_listings_count  distance_to_center  \n",
       "30232                             2.0               -0.07  \n",
       "33843                             7.0               -0.49  \n",
       "32215                             0.0                0.97  "
      ]
     },
     "execution_count": 45,
     "metadata": {},
     "output_type": "execute_result"
    }
   ],
   "source": [
    "#масштабирование числовых признаков\n",
    "\n",
    "from sklearn.preprocessing import RobustScaler\n",
    "\n",
    "# Предположим, что у вас есть данные для масштабирования (например, числовые столбцы)\n",
    "numerical_cols = df_filtered.select_dtypes(include=['number']).columns\n",
    "\n",
    "# Создаем объект RobustScaler\n",
    "scaler = RobustScaler()\n",
    "\n",
    "# Масштабируем данные\n",
    "df_filtered[numerical_cols] = scaler.fit_transform(df_filtered[numerical_cols])\n",
    "df_filtered.sample(3)"
   ]
  },
  {
   "cell_type": "code",
   "execution_count": null,
   "id": "abc983ba-28c2-49db-8892-9a84f7430e08",
   "metadata": {
    "jupyter": {
     "source_hidden": true
    }
   },
   "outputs": [],
   "source": [
    "# print(df_scaled[numeric_cols].head())  # Вывод первых строк масштабированных данных\n",
    "# print(\"\\nСреднее значение после масштабирования:\")\n",
    "# print(df_scaled[numeric_cols].mean())  # Должно быть ~0\n",
    "# print(\"\\nСтандартное отклонение после масштабирования:\")\n",
    "# print(df_scaled[numeric_cols].std())   # Должно быть ~1"
   ]
  },
  {
   "cell_type": "code",
   "execution_count": null,
   "id": "8ce306c2-b38b-4dac-84b0-a75e0159f249",
   "metadata": {
    "jupyter": {
     "source_hidden": true
    }
   },
   "outputs": [],
   "source": [
    "from sklearn.model_selection import GridSearchCV\n",
    "\n",
    "# Параметры для перебора\n",
    "param_grid = {\n",
    "    'max_depth': [3, 5, 7, 10],\n",
    "    'learning_rate': [0.01, 0.1, 0.2],\n",
    "    'n_estimators': [50, 100, 200],\n",
    "    'subsample': [0.7, 0.8, 1.0]\n",
    "}\n",
    "\n",
    "# Поиск лучших параметров\n",
    "grid = GridSearchCV(\n",
    "    XGBRegressor(random_state=42),\n",
    "    param_grid,\n",
    "    cv=5,\n",
    "    scoring='r2'\n",
    ")\n",
    "grid.fit(X_train, y_train)\n",
    "\n",
    "# Лучшая модель\n",
    "best_model = grid.best_estimator_\n",
    "print(\"Лучшие параметры:\", grid.best_params_)"
   ]
  },
  {
   "cell_type": "code",
   "execution_count": 48,
   "id": "86f5469f-d2ec-4825-b77e-c426901cc80f",
   "metadata": {},
   "outputs": [],
   "source": [
    "# Кодирование категориальных переменных\n",
    "categorical_cols = ['neighbourhood_group', 'neighbourhood', 'room_type']\n",
    "\n",
    "# Преобразуем категориальные колонки в category dtype\n",
    "for col in categorical_cols:\n",
    "    df_filtered[col] = df_filtered[col].astype('category')\n",
    "for col in categorical_cols:\n",
    "    X_train[col] = X_train[col].astype('category')\n",
    "    X_test[col] = X_test[col].astype('category')\n"
   ]
  },
  {
   "cell_type": "code",
   "execution_count": 49,
   "id": "8871d6e2-110e-471e-9e4a-8861464bc6bf",
   "metadata": {},
   "outputs": [
    {
     "name": "stdout",
     "output_type": "stream",
     "text": [
      "Лучшие параметры: {'learning_rate': 0.05, 'max_depth': -1, 'n_estimators': 200, 'num_leaves': 40}\n"
     ]
    }
   ],
   "source": [
    "from sklearn.model_selection import GridSearchCV\n",
    "import lightgbm as lgb \n",
    "\n",
    "# Параметры для перебора\n",
    "\n",
    "param_grid = {\n",
    "    'n_estimators': [100, 200],  # Number of boosting rounds\n",
    "    'learning_rate': [0.01, 0.05, 0.1],  # Step size shrinkage\n",
    "    'num_leaves': [20, 30, 40],  # Max number of leaves in one tree\n",
    "    'max_depth': [-1, 5, 10]  # -1 means no limit.  Limit the max depth of tree to prevent over-fitting\n",
    "    # 'min_child_samples': [20, 30, 40],  # Minimum number of data need in a child(leaf)\n",
    "    # 'subsample': [0.8, 0.9, 1.0],  # Subsample ratio of the training instance.\n",
    "    # 'colsample_bytree': [0.8, 0.9, 1.0], # Subsample ratio of columns when constructing each tree.\n",
    "    # 'reg_alpha': [0.0, 0.1, 0.2], # L1 regularization term on weights\n",
    "    # 'reg_lambda': [0.0, 0.1, 0.2], # L2 regularization term on weights\n",
    "}\n",
    "\n",
    "# Поиск лучших параметров\n",
    "grid = GridSearchCV(\n",
    "    lgb.LGBMRegressor(random_state=42),\n",
    "    param_grid,\n",
    "    cv=5,\n",
    "    scoring='r2'\n",
    ")\n",
    "grid.fit(X_train, y_train)\n",
    "\n",
    "# Лучшая модель\n",
    "best_model = grid.best_estimator_\n",
    "print(\"Лучшие параметры:\", grid.best_params_)"
   ]
  },
  {
   "cell_type": "code",
   "execution_count": 42,
   "id": "903245a4-f08a-459b-809e-8443a78437bd",
   "metadata": {},
   "outputs": [],
   "source": [
    "from sklearn.model_selection import train_test_split\n",
    "\n",
    "X = df_filtered.drop('price', axis=1)\n",
    "y = df_filtered['price']\n",
    "X_train, X_test, y_train, y_test = train_test_split(X, y, test_size=0.3, random_state=42)"
   ]
  },
  {
   "cell_type": "code",
   "execution_count": 50,
   "id": "fa913aec-fdd0-4180-9e2f-0a10cb07323c",
   "metadata": {},
   "outputs": [
    {
     "name": "stdout",
     "output_type": "stream",
     "text": [
      "MSE: 0.2312\n",
      "r2: 0.5589\n"
     ]
    }
   ],
   "source": [
    "import lightgbm as lgb\n",
    "from sklearn.metrics import mean_squared_error\n",
    "\n",
    "# Создаем Dataset\n",
    "train_data = lgb.Dataset(X_train, label=y_train, categorical_feature=categorical_cols)\n",
    "\n",
    "# Параметры модели\n",
    "params = {\n",
    "    'objective': 'regression', # для регрессии (если цель — цена)\n",
    "    'max_depth': -1,\n",
    "    'n_estimators': 200,\n",
    "    'metric': 'rmse',           # метрика качества\n",
    "    'boosting_type': 'gbdt',    # тип бустинга\n",
    "    'num_leaves': 40,\n",
    "    'learning_rate': 0.05,\n",
    "    'feature_fraction': 0.9,\n",
    "    'verbose': -1,\n",
    "    \n",
    "}\n",
    "\n",
    "# Обучение модели\n",
    "model = lgb.train(params, train_data, num_boost_round=100)\n",
    "\n",
    "# Предсказание на тестовых данных\n",
    "y_pred = model.predict(X_test)\n",
    "\n",
    "# Оценка модели\n",
    "# rmse = mean_squared_error(y_test, y_pred, squared=False)\n",
    "# print(f'RMSE: {rmse}')\n",
    "mse = mean_squared_error(y_test, y_pred)\n",
    "print(f\"MSE: {mse:.4f}\")\n",
    "r2 = r2_score(y_test, y_pred)\n",
    "print(f\"r2: {r2:.4f}\")"
   ]
  },
  {
   "cell_type": "code",
   "execution_count": 40,
   "id": "49ef7ad3-7a21-4003-a673-0ad6f6c36d33",
   "metadata": {},
   "outputs": [
    {
     "ename": "ValueError",
     "evalue": "tree must be Booster, XGBModel or dict instance",
     "output_type": "error",
     "traceback": [
      "\u001b[1;31m---------------------------------------------------------------------------\u001b[0m",
      "\u001b[1;31mValueError\u001b[0m                                Traceback (most recent call last)",
      "Cell \u001b[1;32mIn[40], line 5\u001b[0m\n\u001b[0;32m      2\u001b[0m \u001b[38;5;28;01mfrom\u001b[39;00m\u001b[38;5;250m \u001b[39m\u001b[38;5;21;01mxgboost\u001b[39;00m\u001b[38;5;250m \u001b[39m\u001b[38;5;28;01mimport\u001b[39;00m plot_importance\n\u001b[0;32m      4\u001b[0m \u001b[38;5;66;03m# Визуализация важности признаков\u001b[39;00m\n\u001b[1;32m----> 5\u001b[0m \u001b[43mplot_importance\u001b[49m\u001b[43m(\u001b[49m\u001b[43mbest_model\u001b[49m\u001b[43m)\u001b[49m\n\u001b[0;32m      6\u001b[0m plt\u001b[38;5;241m.\u001b[39mshow()\n",
      "File \u001b[1;32m~\\AppData\\Local\\Programs\\Python\\Python313\\Lib\\site-packages\\xgboost\\core.py:729\u001b[0m, in \u001b[0;36mrequire_keyword_args.<locals>.throw_if.<locals>.inner_f\u001b[1;34m(*args, **kwargs)\u001b[0m\n\u001b[0;32m    727\u001b[0m \u001b[38;5;28;01mfor\u001b[39;00m k, arg \u001b[38;5;129;01min\u001b[39;00m \u001b[38;5;28mzip\u001b[39m(sig\u001b[38;5;241m.\u001b[39mparameters, args):\n\u001b[0;32m    728\u001b[0m     kwargs[k] \u001b[38;5;241m=\u001b[39m arg\n\u001b[1;32m--> 729\u001b[0m \u001b[38;5;28;01mreturn\u001b[39;00m \u001b[43mfunc\u001b[49m\u001b[43m(\u001b[49m\u001b[38;5;241;43m*\u001b[39;49m\u001b[38;5;241;43m*\u001b[39;49m\u001b[43mkwargs\u001b[49m\u001b[43m)\u001b[49m\n",
      "File \u001b[1;32m~\\AppData\\Local\\Programs\\Python\\Python313\\Lib\\site-packages\\xgboost\\plotting.py:99\u001b[0m, in \u001b[0;36mplot_importance\u001b[1;34m(booster, ax, height, xlim, ylim, title, xlabel, ylabel, fmap, importance_type, max_num_features, grid, show_values, values_format, **kwargs)\u001b[0m\n\u001b[0;32m     97\u001b[0m     importance \u001b[38;5;241m=\u001b[39m booster\n\u001b[0;32m     98\u001b[0m \u001b[38;5;28;01melse\u001b[39;00m:\n\u001b[1;32m---> 99\u001b[0m     \u001b[38;5;28;01mraise\u001b[39;00m \u001b[38;5;167;01mValueError\u001b[39;00m(\u001b[38;5;124m\"\u001b[39m\u001b[38;5;124mtree must be Booster, XGBModel or dict instance\u001b[39m\u001b[38;5;124m\"\u001b[39m)\n\u001b[0;32m    101\u001b[0m \u001b[38;5;28;01mif\u001b[39;00m \u001b[38;5;129;01mnot\u001b[39;00m importance:\n\u001b[0;32m    102\u001b[0m     \u001b[38;5;28;01mraise\u001b[39;00m \u001b[38;5;167;01mValueError\u001b[39;00m(\n\u001b[0;32m    103\u001b[0m         \u001b[38;5;124m\"\u001b[39m\u001b[38;5;124mBooster.get_score() results in empty.  \u001b[39m\u001b[38;5;124m\"\u001b[39m\n\u001b[0;32m    104\u001b[0m         \u001b[38;5;241m+\u001b[39m \u001b[38;5;124m\"\u001b[39m\u001b[38;5;124mThis maybe caused by having all trees as decision dumps.\u001b[39m\u001b[38;5;124m\"\u001b[39m\n\u001b[0;32m    105\u001b[0m     )\n",
      "\u001b[1;31mValueError\u001b[0m: tree must be Booster, XGBModel or dict instance"
     ]
    }
   ],
   "source": [
    "import matplotlib.pyplot as plt\n",
    "from xgboost import plot_importance\n",
    "\n",
    "# Визуализация важности признаков\n",
    "plot_importance(best_model)\n",
    "plt.show()"
   ]
  },
  {
   "cell_type": "code",
   "execution_count": null,
   "id": "9adb5207-01a0-4c1a-af61-9fcc3f33bfdc",
   "metadata": {},
   "outputs": [],
   "source": []
  }
 ],
 "metadata": {
  "kernelspec": {
   "display_name": "Python 3 (ipykernel)",
   "language": "python",
   "name": "python3"
  },
  "language_info": {
   "codemirror_mode": {
    "name": "ipython",
    "version": 3
   },
   "file_extension": ".py",
   "mimetype": "text/x-python",
   "name": "python",
   "nbconvert_exporter": "python",
   "pygments_lexer": "ipython3",
   "version": "3.13.1"
  }
 },
 "nbformat": 4,
 "nbformat_minor": 5
}
