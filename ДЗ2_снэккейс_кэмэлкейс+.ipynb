{
  "nbformat": 4,
  "nbformat_minor": 0,
  "metadata": {
    "colab": {
      "provenance": [],
      "authorship_tag": "ABX9TyMjT9XdmYw6uyFc5mVkRZPb",
      "include_colab_link": true
    },
    "kernelspec": {
      "name": "python3",
      "display_name": "Python 3"
    },
    "language_info": {
      "name": "python"
    }
  },
  "cells": [
    {
      "cell_type": "markdown",
      "metadata": {
        "id": "view-in-github",
        "colab_type": "text"
      },
      "source": [
        "<a href=\"https://colab.research.google.com/github/Ibolvachevamailu/My_progekt/blob/main/%D0%94%D0%972_%D1%81%D0%BD%D1%8D%D0%BA%D0%BA%D0%B5%D0%B9%D1%81_%D0%BA%D1%8D%D0%BC%D1%8D%D0%BB%D0%BA%D0%B5%D0%B9%D1%81%2B.ipynb\" target=\"_parent\"><img src=\"https://colab.research.google.com/assets/colab-badge.svg\" alt=\"Open In Colab\"/></a>"
      ]
    },
    {
      "cell_type": "code",
      "execution_count": 1,
      "metadata": {
        "colab": {
          "base_uri": "https://localhost:8080/"
        },
        "id": "DRAHIjgD-XM2",
        "outputId": "08300d02-ad3b-4cfc-8eb2-60d530923f06"
      },
      "outputs": [
        {
          "output_type": "stream",
          "name": "stdout",
          "text": [
            "python_is_the_best\n",
            "OtusCourse\n"
          ]
        }
      ],
      "source": [
        "from re import split\n",
        "from os import ST_RDONLY\n",
        "def func(str_1):\n",
        "  if not str_1.islower():\n",
        "    str_1 = str_1[0].lower() + str_1[1:]\n",
        "    for i in range(1, len(str_1)):\n",
        "      if str_1[i].isupper():\n",
        "        str_1 = str_1[:i] + '_' + str_1[i].lower() + str_1[i+1:]\n",
        "    print(str_1)\n",
        "  else:\n",
        "    a = str_1.split('_')\n",
        "    result = ''\n",
        "    for item in a:\n",
        "      result += item[0].upper() + item[1:]\n",
        "    print(result)\n",
        "\n",
        "\n",
        "func('PythonIsTheBest')\n",
        "func('otus_course')\n",
        "\n"
      ]
    }
  ]
}