{
  "nbformat": 4,
  "nbformat_minor": 0,
  "metadata": {
    "colab": {
      "provenance": [],
      "authorship_tag": "ABX9TyMjT9XdmYw6uyFc5mVkRZPb",
      "include_colab_link": true
    },
    "kernelspec": {
      "name": "python3",
      "display_name": "Python 3"
    },
    "language_info": {
      "name": "python"
    }
  },
  "cells": [
    {
      "cell_type": "markdown",
      "metadata": {
        "id": "view-in-github",
        "colab_type": "text"
      },
      "source": [
        "<a href=\"https://colab.research.google.com/github/Ibolvachevamailu/My_progekt/blob/main/%D0%94%D0%972_%D1%81%D0%BD%D1%8D%D0%BA%D0%BA%D0%B5%D0%B9%D1%81_%D0%BA%D1%8D%D0%BC%D1%8D%D0%BB%D0%BA%D0%B5%D0%B9%D1%81%2B.ipynb\" target=\"_parent\"><img src=\"https://colab.research.google.com/assets/colab-badge.svg\" alt=\"Open In Colab\"/></a>"
      ]
    },
    {
      "cell_type": "code",
      "execution_count": null,
      "metadata": {
        "colab": {
          "base_uri": "https://localhost:8080/",
          "height": 220
        },
        "id": "DRAHIjgD-XM2",
        "outputId": "1b02c045-45e6-4a56-8a3d-7212353aacd2"
      },
      "outputs": [
        {
          "output_type": "error",
          "ename": "NameError",
          "evalue": "name 'result' is not defined",
          "traceback": [
            "\u001b[0;31m---------------------------------------------------------------------------\u001b[0m",
            "\u001b[0;31mNameError\u001b[0m                                 Traceback (most recent call last)",
            "\u001b[0;32m<ipython-input-1-b82d1d02fded>\u001b[0m in \u001b[0;36m<cell line: 0>\u001b[0;34m()\u001b[0m\n\u001b[1;32m     15\u001b[0m     \u001b[0mprint\u001b[0m\u001b[0;34m(\u001b[0m\u001b[0mresult\u001b[0m\u001b[0;34m)\u001b[0m\u001b[0;34m\u001b[0m\u001b[0;34m\u001b[0m\u001b[0m\n\u001b[1;32m     16\u001b[0m \u001b[0;34m\u001b[0m\u001b[0m\n\u001b[0;32m---> 17\u001b[0;31m \u001b[0mprint\u001b[0m\u001b[0;34m(\u001b[0m\u001b[0mresult\u001b[0m\u001b[0;34m)\u001b[0m\u001b[0;34m\u001b[0m\u001b[0;34m\u001b[0m\u001b[0m\n\u001b[0m\u001b[1;32m     18\u001b[0m \u001b[0;34m\u001b[0m\u001b[0m\n\u001b[1;32m     19\u001b[0m \u001b[0;34m\u001b[0m\u001b[0m\n",
            "\u001b[0;31mNameError\u001b[0m: name 'result' is not defined"
          ]
        }
      ],
      "source": [
        "from re import split\n",
        "from os import ST_RDONLY\n",
        "def func(str_1):\n",
        "  if not str_1.islower():\n",
        "    str_1 = str_1[0].lower() + str_1[1:]\n",
        "    for i in range(1, len(str_1)):\n",
        "      if str_1[i].isupper():\n",
        "        str_1 = str_1[:i] + '_' + str_1[i].lower() + str_1[i+1:]\n",
        "    print(str_1)\n",
        "  else:\n",
        "    a = str_1.split('_')\n",
        "    result = ''\n",
        "    for item in a:\n",
        "      result += item[0].upper() + item[1:]\n",
        "    print(result)\n",
        "\n",
        "\n",
        "func('PythonIsTheBest')\n",
        "func('otus_course')\n",
        "\n"
      ]
    }
  ]
}